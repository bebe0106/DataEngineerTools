{
 "cells": [
  {
   "cell_type": "markdown",
   "metadata": {},
   "source": [
    "# Introduction "
   ]
  },
  {
   "cell_type": "markdown",
   "metadata": {},
   "source": [
    "MongoDB est une base de données open source codée en C++ basée sur un concept de stockage sous la forme de documents au format JSON. Le grand avantage de ce système est l'optimisation de la mémoire. Dans une base relationelle, chaque colonne doit être définie au préalable avec une empreinte mémoire et un type de donnée. Dans une base MongoDB si le champ n'est pas présent, il n'apparait pas dans un document et n'impacte pas la mémoire, alors qu'en SQL la place mémoire est utilisée même si le champ est absent, pour spécifier que la valeur est null."
   ]
  },
  {
   "cell_type": "markdown",
   "metadata": {},
   "source": [
    "## Les avantages "
   ]
  },
  {
   "cell_type": "markdown",
   "metadata": {},
   "source": [
    "- Optimisé pour le multi-machines et la réplication de données ;\n",
    "- Pas besoin de jointures entre les tables compte tenu du modèle de données sous forme de documents ;\n",
    "- Un index est créé sur chaque clé pour une rapidité de requêtes ;\n",
    "- Un langage de requêtage aussi puissant que le SQL ;\n",
    "- Optimisation de la mémoire .\n"
   ]
  },
  {
   "cell_type": "markdown",
   "metadata": {},
   "source": [
    "## Concepts basiques\n"
   ]
  },
  {
   "cell_type": "markdown",
   "metadata": {},
   "source": [
    "\n",
    "- Database : une database est un regroupement de collections. Chaque database possède son propre système de fichiers et sa propre authentification. Elle a le même rôle qu'une database en MySQL.\n",
    "- Collection : une collection est un regroupement de documents. C'est une table en MySQL, la principale différence étant qu'elle ne définit pas un schéma de données fixe. Les documents présents dans une collection n'ont pas forcément tous les mêmes champs.\n",
    "- Document : un document est un objet JSON stocké sous la forme de plusieurs paires clé:valeur. C'est l'équivalent d'une ligne dans une table SQL.\n",
    "- Champ : Un champ est l'équivalent d'une colonne en SQL. Il permet de faire des requêtes."
   ]
  },
  {
   "cell_type": "markdown",
   "metadata": {},
   "source": [
    "## Identifiants"
   ]
  },
  {
   "cell_type": "markdown",
   "metadata": {},
   "source": [
    "Tous les documents possèdent un identifiant unique, ce qui permet de le retrouver très efficacement. L'identifiant peut être spécifié lors de l'ajout d'un nouveau document (nom+prenom, adresse email, url, etc). Dans le cas ou aucun identifiant n'est précisé, MongoDB se charge d'en ajouter un. Il est composé d'un nombre stocké sur 12 bytes au format hexadécimal :\n",
    "\n",
    "- Les 4 premiers bytes sont le timestamp de l'ajout du document\n",
    "- Les 3 suivants correspondent à l'identifiant de la machine\n",
    "- Les 2 suivants l'identifiant du processus\n",
    "- Les 3 derniers sont une valeur incrémentale\n"
   ]
  },
  {
   "cell_type": "markdown",
   "metadata": {},
   "source": [
    "## Les types de données"
   ]
  },
  {
   "cell_type": "markdown",
   "metadata": {},
   "source": [
    "Une base de données MongoDB permet de stocker un grand volume de données hétérogènes sans imposer un modèle de données fixe pour tous les documents. Il est conseillé, comme vu plus haut, de bien définir la structure globale pour garder une cohérence tout au long des développements.\n",
    "\n",
    "- Integer : entier relatif stocké sur 32 ou 64 bits.\n",
    "- Double : nombre décimal stocké sur 64 bits.\n",
    "- String : chaine de caractère (encodée en utf-8)\n",
    "- Booléen : True ou False\n",
    "- Object : sous-objet stocké au format JSON\n",
    "- Date : date au format UNIX (nombre de ms écoulées depuis le 1er janvier 1970) stockée sur 64 bits.\n",
    "- Array : stocker une liste d'éléments au format atomique ou d'objets\n",
    "\n",
    "D'autres types sont disponibles et vous pouvez les trouver https://docs.mongodb.com/manual/reference/bson-types/"
   ]
  },
  {
   "cell_type": "markdown",
   "metadata": {},
   "source": [
    "# Installation\n"
   ]
  },
  {
   "cell_type": "markdown",
   "metadata": {},
   "source": [
    "L'installation peut se faire de plusieurs manières.\n",
    "\n",
    "- Directement depuis les sources ou à partir de packages.  \n",
    "Liens vers le tutorial https://docs.mongodb.com/manual/tutorial/install-mongodb-on-ubuntu/\n",
    "\n",
    "Sur une Debian 9 Stretch:\n",
    "\n",
    "```bash\n",
    "export http_proxy=http://147.215.1.189:3128\n",
    "export https_proxy=http://147.215.1.189:3128\n",
    "apt-get update\n",
    "apt-get install -y mongodb-org\n",
    "```\n",
    "\n",
    "Démarrage du service\n",
    "\n",
    "Vérifier que le service Mongo est démarré\n",
    "\n",
    "```bash\n",
    "> service mongodb status\n",
    "\n",
    "\n",
    "● mongodb.service - An object/document-oriented database\n",
    "   Loaded: loaded (/lib/systemd/system/mongodb.service; enabled; vendor preset:\n",
    "   Active: active (running) since Mon 2018-11-25 13:51:14 CET; 18min ago\n",
    "     Docs: man:mongod(1)\n",
    " Main PID: 22845 (mongod)\n",
    "    Tasks: 16 (limit: 4915)\n",
    "   CGroup: /system.slice/mongodb.service\n",
    "           └─22845 /usr/bin/mongod --unixSocketPrefix=/run/mongodb --config /etc\n",
    "```\n",
    "\n",
    "ou le démarrer avec \n",
    " \n",
    "```bash\n",
    "> service mongodb start\n",
    "```\n",
    "\n",
    "\n",
    "- Ou en instanciant un conteneur Docker. L'avantage de Docker est qu'il n'installe aucune dépendance sur votre machine et laisse son environnement propre. Lien vers le tutorial : https://hub.docker.com/_/mongo/\n",
    "\n",
    "\n",
    "```bash\n",
    "> docker run --name my-mongo -d -p 27017:27017 mongo\n",
    "```\n",
    "\n",
    "Pour vérifier que le conteneur est bien lancé on peut regarder les logs avec\n",
    "\n",
    "\n",
    "```bash\n",
    "> docker logs my-mongo\n",
    "```"
   ]
  },
  {
   "cell_type": "markdown",
   "metadata": {},
   "source": [
    "# Connexion"
   ]
  },
  {
   "cell_type": "markdown",
   "metadata": {},
   "source": [
    "\n",
    "Pour se connecter à une base Mongo deux solutions sont possibles. En ligne de commande ou via un gestionnaire de BDD comme Robo3T https://robomongo.org/ . Dans les deux cas, la syntaxe Mongo est utilisée pour effectuer des requêtes. L'avantage de Robo3T est qu'il possède une interface permettant de visualiser très simplement les données.\n",
    "\n",
    "Dans un terminal utilisateur standard, la commande mongo permet d'obtenir un shell interactif:\n",
    "\n",
    "```bash\n",
    "student@debian:~$ mongo\n",
    "MongoDB shell version: 3.2.11\n",
    "connecting to: test\n",
    ">\n",
    "```\n",
    "\n",
    "Le port par défaut de Mongo est le 27017."
   ]
  },
  {
   "cell_type": "markdown",
   "metadata": {},
   "source": [
    "# Création d'un modèle de données\n"
   ]
  },
  {
   "cell_type": "markdown",
   "metadata": {},
   "source": [
    "La création d'un modèle de données clair et adapté est une tâche importante et primordiale. Ce modèle de données doit être réfléchi à court et long terme et doit prendre en compte la capacité de stockage et les besoins métiers."
   ]
  },
  {
   "cell_type": "markdown",
   "metadata": {},
   "source": [
    "## Database"
   ]
  },
  {
   "cell_type": "markdown",
   "metadata": {},
   "source": [
    "\n",
    "A partir du shell Mongo, on peut afficher les databases disponibles. Au démarrage, aucune n'est créée:\n",
    "```\n",
    "> show dbs\n",
    "admin   0.000GB\n",
    "config  0.000GB\n",
    "local   0.000GB\n",
    "```\n",
    "\n",
    "Aucun database n'est présente\n",
    "```\n",
    "> use test\n",
    "switched to db test\n",
    "```\n",
    "\n",
    "Pour supprimer définitivement une database:\n",
    "\n",
    "```\n",
    "> db.dropDatabase()\n",
    "```\n",
    "Comme vous pouvez le deviner cette commande est à utiliser avec précaution."
   ]
  },
  {
   "cell_type": "markdown",
   "metadata": {},
   "source": [
    "## Collection"
   ]
  },
  {
   "cell_type": "markdown",
   "metadata": {},
   "source": [
    "Les collections correspondent aux tables en SQL. Elles sont des sous-ensembles d'une database. Pour créer une collection il faut auparavant s'être référencé sur une database.\n",
    "\n",
    "```\n",
    "show dbs\n",
    "use <YOUR_DB_NAME>\n",
    "db.createCollection(<YOUR_COLLECTION_NAME>)\n",
    "show collections\n",
    "```\n",
    "\n",
    "Comme pour les databases on peut vouloir supprimer définitivement une collection.\n",
    "\n",
    "```\n",
    "db.<YOUR_COLLECTION_NAME>.drop()\n",
    "show collections\n",
    "```\n"
   ]
  },
  {
   "cell_type": "markdown",
   "metadata": {},
   "source": [
    "## Document"
   ]
  },
  {
   "cell_type": "markdown",
   "metadata": {},
   "source": [
    "Insertion\n",
    "Un document (objet JSON) est un sous-ensemble d'une collection qui est lui même une sous-partie d'une database. Pour insérer un document il faut donc se référencer sur une database et sur la collection souhaitée.\n",
    "\n",
    "```\n",
    "use <YOUR_DB_NAME>\n",
    "db.createCollection(<YOUR_COLLECTION_NAME>)\n",
    "show collections\n",
    "db.<YOUR_COLLECTION_NAME>.insert({\n",
    "    firstname : \"Thomas\",\n",
    "    lastname : \"Shelby\",\n",
    "    position : \"director\",\n",
    "    company : \"Peaky Blinders\"})\n",
    "```\n",
    "\n",
    "Si vous ne précisez pas d'identifiant unique (id du document), MongoDB se charge de le remplir avec les règles définies précédement. Une bonne pratique est de trouver une règle permettant de retrouver facilement et efficacement un document sans avoir à faire une requête complexe et obliger la base à rechercher dans ses champs. Une technique est de prendre le hash d'une combinaison des champs qui permet de créer une clé unique SHA128(firstname+lastname+position) par exemple.\n",
    "\n",
    "```\n",
    "use <YOUR_DB_NAME>\n",
    "show collections\n",
    "db.<YOUR_COLLECTION_NAME>.insert({\n",
    "    firstname : \"Thomas\",\n",
    "    lastname : \"Shelby\",\n",
    "    position : \"CEO\",\n",
    "    gender : \"Male\",\n",
    "    age : 35,\n",
    "    description : \"Thomas 'Tommy' Michael Shelby M.P. OBE, is the leader of the Birmingham criminal gang Peaky Blinders and the patriarch of the Shelby Family. His experiences during and after the First World War have left him disillusioned and determined to move his family up in the world.\",\n",
    "    nicknames : [\"Tom\", \"Tommy\", \"Thomas\"],\n",
    "    company : \"Peaky Blinders\",\n",
    "    episodes : [1,2,4,5,6]\n",
    "    })\n",
    "```\n",
    "Pour des soucis de performances, si un grand nombre de documents doivent être insérés très rapidement sans surcharger les appels réseaux, il est possible de passer une liste JSON d'objets à la fonction insert.\n",
    "\n",
    "```\n",
    "db.<YOUR_COLLECTION_NAME>.insert([\n",
    "{\n",
    "    firstname : \"Arthur\",\n",
    "    lastname : \"Shelby\",\n",
    "    position : \"Associate\",\n",
    "    gender : \"Male\",\n",
    "    age : 38,\n",
    "    description : \"Arthur Shelby Jr. is the eldest of the Shelby siblings and the tough member of Peaky Blinders, the Deputy Vice President Shelby Company Limited. He's also a member of the ICA.\",\n",
    "    company : \"Peaky Blinders\",\n",
    "    episodes : [1,4,6]\n",
    "\n",
    "},{\n",
    "    firstname : \"John\",\n",
    "    lastname : \"Shelby\",\n",
    "    position : \"Associate\",\n",
    "    gender : \"Male\",\n",
    "    age : 30,\n",
    "    description : \"John Michael Shelby, also called Johnny or John Boy, was the third of Shelby siblings and a member of the Peaky Blinders.\",\n",
    "    nicknames : [\"Johnny\", \"John Boy\"],\n",
    "    company : \"Peaky Blinders\",\n",
    "    episodes : [4,5,6]\n",
    "},{\n",
    "    firstname : \"Ada\",\n",
    "    lastname : \"Thorne\",\n",
    "    position : \"HR\",\n",
    "    gender : \"Female\",\n",
    "    age : 28,\n",
    "    description : \"Ada Thorne is the fourth and only female of the Shelby sibling. She's the Head of Acquisitions of the Shelby Company Limited.\",\n",
    "    nicknames : [\"Ada Shelby\"],\n",
    "    company : \"Peaky Blinders\",\n",
    "    episodes : [1,2,6]\n",
    "},{\n",
    "    firstname : \"Michael\",\n",
    "    lastname : \"Gray\",\n",
    "    position : \"Accounting\",\n",
    "    gender : \"Male\",\n",
    "    age : 21,\n",
    "    description : \"Michael Gray is the son of Polly Shelby, his father is dead, and cousin of the Shelby siblings. He is the Chief Accountant in the Shelby Company Limited.\",\n",
    "    nicknames : [\"Henry Johnson\", \"Jobbie Muncher\", \"Mickey\"],\n",
    "    company : \"Peaky Blinders\",\n",
    "    episodes : [5,6]\n",
    "},{\n",
    "    firstname : \"Polly\",\n",
    "    lastname : \"Gray\",\n",
    "    gender : \"Female\",\n",
    "    age : 45,\n",
    "    position : \"CFO\",\n",
    "    description : \"Elizabeth Polly Gray (née Shelby) is the matriarch of the Shelby Family, aunt of the Shelby siblings, the treasurer of the Birmingham criminal gang, the Peaky Blinders, a certified accountant and company treasurer of Shelby Company Limited. \",\n",
    "    nicknames : [\"Aunt Polly\", \"Polly Gray\", \"Elizabeth Gray\", \"Polly Shelby\", \"Pol\"],\n",
    "    company : \"Peaky Blinders\",\n",
    "    episodes : [1,2,5,6]\n",
    "}])\n",
    "```"
   ]
  },
  {
   "cell_type": "markdown",
   "metadata": {},
   "source": [
    "# Python "
   ]
  },
  {
   "cell_type": "markdown",
   "metadata": {},
   "source": [
    "Il existe une API Python développée pour interagir avec une base de données MongoDB. \n",
    "\n",
    "Ce package s'appelle `pymongo`, vous pouvez trouver la documentation https://docs.mongodb.com/getting-started/python/client/. Il est important d'avoir des APIs dans les différents langages pour faciliter l'intégration dans les applications.\n",
    "\n",
    "Pour installer le package :\n"
   ]
  },
  {
   "cell_type": "code",
   "execution_count": 1,
   "metadata": {
    "ExecuteTime": {
     "end_time": "2023-12-05T17:22:08.180518Z",
     "start_time": "2023-12-05T17:22:04.119513100Z"
    }
   },
   "outputs": [
    {
     "name": "stdout",
     "output_type": "stream",
     "text": [
      "Requirement already satisfied: pymongo in c:\\users\\march\\pycharmprojects\\dataengineertools\\venv\\lib\\site-packages (4.6.0)\n",
      "Requirement already satisfied: dnspython<3.0.0,>=1.16.0 in c:\\users\\march\\pycharmprojects\\dataengineertools\\venv\\lib\\site-packages (from pymongo) (2.4.2)\n"
     ]
    },
    {
     "name": "stderr",
     "output_type": "stream",
     "text": [
      "\n",
      "[notice] A new release of pip available: 22.3.1 -> 23.3.1\n",
      "[notice] To update, run: python.exe -m pip install --upgrade pip\n"
     ]
    }
   ],
   "source": [
    "!pip install pymongo"
   ]
  },
  {
   "cell_type": "markdown",
   "metadata": {},
   "source": [
    "Ce package garde très largement la syntaxe Mongo shell et permet d'utiliser ces méthodes et items (DataBases, Collections, Documents) en tant qu'objets Python.\n",
    "\n",
    "Dans un premier temps on veut créer le lien entre notre base Mongo et notre programme, pour cela on créé un `client`."
   ]
  },
  {
   "cell_type": "code",
   "execution_count": 16,
   "metadata": {
    "ExecuteTime": {
     "end_time": "2023-12-05T17:32:47.171880800Z",
     "start_time": "2023-12-05T17:32:47.160540500Z"
    }
   },
   "outputs": [],
   "source": [
    "from pymongo import MongoClient\n",
    "client = MongoClient(\"localhost\",27017)\n",
    "# client = MongoClient(\"mongodb://localhost:27017\")\n"
   ]
  },
  {
   "cell_type": "markdown",
   "metadata": {},
   "source": [
    "Permet de se connecter à une base MongoDB en créant un pointeur client vers cette base. Par défault ce client est paramétré sur le localhost et le port 27017 qui est le port par défaut et très généralement utilisé.\n",
    " \n",
    "Néanmoins, vous pouvez choisir de vous connecter à n'importe quelle base, qu'elle soit sur votre machine ou à distance.\n",
    "\n",
    "\n",
    "```\n",
    "client = MongoClient(\"http://<YOUR_IP_ADDRESS>:<YOUR_PORT_NUMBER>)\n",
    "```\n",
    "\n",
    "Il est possible comme depuis le MongoShell de lister les bases de données.\n"
   ]
  },
  {
   "cell_type": "code",
   "execution_count": 22,
   "metadata": {
    "ExecuteTime": {
     "end_time": "2023-12-05T17:43:08.514357Z",
     "start_time": "2023-12-05T17:43:08.501355300Z"
    }
   },
   "outputs": [
    {
     "name": "stdout",
     "output_type": "stream",
     "text": [
      "['admin', 'config', 'data_engineer_tools', 'local', 'series']\n"
     ]
    }
   ],
   "source": [
    "print(client.list_database_names())"
   ]
  },
  {
   "cell_type": "markdown",
   "metadata": {},
   "source": [
    "\n",
    "Vous pouvez aussi les sélectionner. Il y a deux syntaxes : \n",
    "```\n",
    "db = client.<YOUR_DATABASE_NAME>\n",
    "```\n",
    "ou \n",
    "```\n",
    "db = client[\"<YOUR_DATABASE_NAME>\"]\n",
    "```\n"
   ]
  },
  {
   "cell_type": "code",
   "execution_count": 19,
   "metadata": {
    "ExecuteTime": {
     "end_time": "2023-12-05T17:42:20.765331300Z",
     "start_time": "2023-12-05T17:42:20.751608900Z"
    }
   },
   "outputs": [
    {
     "name": "stdout",
     "output_type": "stream",
     "text": [
      "<class 'pymongo.database.Database'>\n"
     ]
    }
   ],
   "source": [
    "db_series = client.series\n",
    "print(type(db_series))"
   ]
  },
  {
   "cell_type": "code",
   "execution_count": 23,
   "metadata": {
    "ExecuteTime": {
     "end_time": "2023-12-05T17:45:43.862351100Z",
     "start_time": "2023-12-05T17:45:43.847590800Z"
    }
   },
   "outputs": [],
   "source": [
    "collection_peaky = db_series['peaky'] "
   ]
  },
  {
   "cell_type": "code",
   "execution_count": 24,
   "metadata": {
    "ExecuteTime": {
     "end_time": "2023-12-05T17:45:45.714666300Z",
     "start_time": "2023-12-05T17:45:45.696372900Z"
    }
   },
   "outputs": [
    {
     "data": {
      "text/plain": "InsertOneResult(ObjectId('656f61c920240db3e4b923d9'), acknowledged=True)"
     },
     "execution_count": 24,
     "metadata": {},
     "output_type": "execute_result"
    }
   ],
   "source": [
    "collection_peaky.insert_one(\n",
    "    {\n",
    "    \"firstname\" : \"Thomas\",\n",
    "    \"lastname\" : \"Shelby\",\n",
    "    \"position\" : \"CEO\",\n",
    "    \"gender\" : \"Male\",\n",
    "    \"age\" : 35,\n",
    "    \"description\" : \"Thomas 'Tommy' Michael Shelby M.P. OBE, is the leader of the Birmingham criminal gang Peaky Blinders and the patriarch of the Shelby Family. His experiences during and after the First World War have left him disillusioned and determined to move his family up in the world.\",\n",
    "    \"nicknames\" : [\"Tom\", \"Tommy\", \"Thomas\"],\n",
    "    \"company\" : \"Peaky Blinders\",\n",
    "    \"episodes\" : [1,2,4,5,6]\n",
    "    })"
   ]
  },
  {
   "cell_type": "code",
   "execution_count": 25,
   "metadata": {
    "ExecuteTime": {
     "end_time": "2023-12-05T17:46:03.206687900Z",
     "start_time": "2023-12-05T17:46:03.194025900Z"
    }
   },
   "outputs": [],
   "source": [
    "DOCUMENTS = [\n",
    "    {\n",
    "    \"firstname\" : \"Thomas\",\n",
    "    \"lastname\" : \"Shelby\",\n",
    "    \"position\" : \"CEO\",\n",
    "    \"gender\" : \"Male\",\n",
    "    \"age\" : 35,\n",
    "    \"description\" : \"Thomas 'Tommy' Michael Shelby M.P. OBE, is the leader of the Birmingham criminal gang Peaky Blinders and the patriarch of the Shelby Family. His experiences during and after the First World War have left him disillusioned and determined to move his family up in the world.\",\n",
    "    \"nicknames\" : [\"Tom\", \"Tommy\", \"Thomas\"],\n",
    "    \"company\" : \"Peaky Blinders\",\n",
    "    \"episodes\" : [1,2,4,5,6]\n",
    "    }, \n",
    "{\n",
    "    \"firstname\" : \"Arthur\",\n",
    "    \"lastname\" : \"Shelby\",\n",
    "    \"position\" : \"Associate\",\n",
    "    \"gender\" : \"Male\",\n",
    "    \"age\" : 38,\n",
    "    \"description\" : \"Arthur Shelby Jr. is the eldest of the Shelby siblings and the tough member of Peaky Blinders, the Deputy Vice President Shelby Company Limited. He's also a member of the ICA.\",\n",
    "    \"company\" : \"Peaky Blinders\",\n",
    "    \"episodes\" : [1,4,6]\n",
    "\n",
    "},{\n",
    "    \"firstname\" : \"John\",\n",
    "    \"lastname\" : \"Shelby\",\n",
    "    \"position\" : \"Associate\",\n",
    "    \"gender\" : \"Male\",\n",
    "    \"age\" : 30,\n",
    "    \"description\" : \"John Michael Shelby, also called Johnny or John Boy, was the third of Shelby siblings and a member of the Peaky Blinders.\",\n",
    "    \"nicknames\" : [\"Johnny\", \"John Boy\"],\n",
    "    \"company\" : \"Peaky Blinders\",\n",
    "    \"episodes\" : [4,5,6]\n",
    "},{\n",
    "    \"firstname\" : \"Ada\",\n",
    "    \"lastname\" : \"Thorne\",\n",
    "    \"position\" : \"HR\",\n",
    "    \"gender\" : \"Female\",\n",
    "    \"age\" : 28,\n",
    "    \"description\" : \"Ada Thorne is the fourth and only female of the Shelby sibling. She's the Head of Acquisitions of the Shelby Company Limited.\",\n",
    "    \"nicknames\" : [\"Ada Shelby\"],\n",
    "    \"company\" : \"Peaky Blinders\",\n",
    "    \"episodes\" : [1,2,6]\n",
    "},{\n",
    "    \"firstname\" : \"Michael\",\n",
    "    \"lastname\" : \"Gray\",\n",
    "    \"position\" : \"Accounting\",\n",
    "    \"gender\" : \"Male\",\n",
    "    \"age\" : 21,\n",
    "    \"description\" : \"Michael Gray is the son of Polly Shelby, his father is dead, and cousin of the Shelby siblings. He is the Chief Accountant in the Shelby Company Limited.\",\n",
    "    \"nicknames\" : [\"Henry Johnson\", \"Jobbie Muncher\", \"Mickey\"],\n",
    "    \"company\" : \"Peaky Blinders\",\n",
    "    \"episodes\" : [5,6]\n",
    "},{\n",
    "    \"firstname\" : \"Polly\",\n",
    "    \"lastname\" : \"Gray\",\n",
    "    \"gender\" : \"Female\",\n",
    "    \"age\" : 45,\n",
    "    \"position\" : \"CFO\",\n",
    "    \"description\" : \"Elizabeth Polly Gray (née Shelby) is the matriarch of the Shelby Family, aunt of the Shelby siblings, the treasurer of the Birmingham criminal gang, the Peaky Blinders, a certified accountant and company treasurer of Shelby Company Limited. \",\n",
    "    \"nicknames\" : [\"Aunt Polly\", \"Polly Gray\", \"Elizabeth Gray\", \"Polly Shelby\", \"Pol\"],\n",
    "    \"company\" : \"Peaky Blinders\",\n",
    "    \"episodes\" : [1,2,5,6]\n",
    "}]"
   ]
  },
  {
   "cell_type": "code",
   "execution_count": 26,
   "metadata": {
    "ExecuteTime": {
     "end_time": "2023-12-05T17:46:08.395389600Z",
     "start_time": "2023-12-05T17:46:08.381514400Z"
    }
   },
   "outputs": [
    {
     "data": {
      "text/plain": "InsertManyResult([ObjectId('656f61e020240db3e4b923da'), ObjectId('656f61e020240db3e4b923db'), ObjectId('656f61e020240db3e4b923dc'), ObjectId('656f61e020240db3e4b923dd'), ObjectId('656f61e020240db3e4b923de'), ObjectId('656f61e020240db3e4b923df')], acknowledged=True)"
     },
     "execution_count": 26,
     "metadata": {},
     "output_type": "execute_result"
    }
   ],
   "source": [
    "collection_peaky.insert_many(DOCUMENTS)"
   ]
  },
  {
   "cell_type": "code",
   "execution_count": 28,
   "metadata": {
    "ExecuteTime": {
     "end_time": "2023-12-05T17:48:27.126967300Z",
     "start_time": "2023-12-05T17:48:27.111889900Z"
    }
   },
   "outputs": [
    {
     "data": {
      "text/plain": "['peaky']"
     },
     "execution_count": 28,
     "metadata": {},
     "output_type": "execute_result"
    }
   ],
   "source": [
    "db_series.list_collection_names()"
   ]
  },
  {
   "cell_type": "markdown",
   "metadata": {},
   "source": [
    "La base de données à bien été créée. Maintenant, pour récupérer un document :"
   ]
  },
  {
   "cell_type": "markdown",
   "metadata": {},
   "source": [
    "## Requêter"
   ]
  },
  {
   "cell_type": "markdown",
   "metadata": {},
   "source": [
    "Afin de récupérer les documents stockés dans une collection, des fonctions de requête sont disponibles. La fonction `find()` permet de récupérer les N premiers documents. La fonction `find_one()` permet de récupérer le premier élément."
   ]
  },
  {
   "cell_type": "code",
   "execution_count": 143,
   "metadata": {},
   "outputs": [
    {
     "data": {
      "text/plain": [
       "{'_id': ObjectId('5ddac1ac9ed5d6001efd0430'),\n",
       " 'firstname': 'Thomas',\n",
       " 'lastname': 'Shelby',\n",
       " 'position': 'CEO',\n",
       " 'gender': 'Male',\n",
       " 'age': 35,\n",
       " 'description': \"Thomas 'Tommy' Michael Shelby M.P. OBE, is the leader of the Birmingham criminal gang Peaky Blinders and the patriarch of the Shelby Family. His experiences during and after the First World War have left him disillusioned and determined to move his family up in the world.\",\n",
       " 'nicknames': ['Tom', 'Tommy', 'Thomas'],\n",
       " 'company': 'Peaky Blinders',\n",
       " 'episodes': [1, 2, 4, 5, 6]}"
      ]
     },
     "execution_count": 143,
     "metadata": {},
     "output_type": "execute_result"
    }
   ],
   "source": [
    "collection_peaky.find_one()"
   ]
  },
  {
   "cell_type": "markdown",
   "metadata": {},
   "source": [
    "Cette fonction permet de récupérer le premier élément de la collection sous la forme d'un dictionnaire.\n",
    "\n",
    "\n",
    "C'est un peu différent pour la méthode find(). Cela crée, pour des raison de performances, un curseur PyMongo. En effet, les données seront récupérées uniquement si elles sont utilisées. C'est intéressant pour des collections très volumineuses."
   ]
  },
  {
   "cell_type": "code",
   "execution_count": 39,
   "metadata": {
    "ExecuteTime": {
     "end_time": "2023-12-05T17:49:59.295414Z",
     "start_time": "2023-12-05T17:49:59.290852400Z"
    }
   },
   "outputs": [
    {
     "data": {
      "text/plain": "pymongo.cursor.Cursor"
     },
     "execution_count": 39,
     "metadata": {},
     "output_type": "execute_result"
    }
   ],
   "source": [
    "cursor = collection_peaky.find()\n",
    "type(cursor)"
   ]
  },
  {
   "cell_type": "markdown",
   "metadata": {},
   "source": [
    "Un curseur est un type d'iterateur python, pour récupérer l'élément suivant:"
   ]
  },
  {
   "cell_type": "code",
   "execution_count": 38,
   "metadata": {
    "ExecuteTime": {
     "end_time": "2023-12-05T17:49:55.763425Z",
     "start_time": "2023-12-05T17:49:55.676561700Z"
    }
   },
   "outputs": [
    {
     "ename": "StopIteration",
     "evalue": "",
     "output_type": "error",
     "traceback": [
      "\u001B[1;31m---------------------------------------------------------------------------\u001B[0m",
      "\u001B[1;31mStopIteration\u001B[0m                             Traceback (most recent call last)",
      "Cell \u001B[1;32mIn[38], line 1\u001B[0m\n\u001B[1;32m----> 1\u001B[0m \u001B[38;5;28;43mnext\u001B[39;49m\u001B[43m(\u001B[49m\u001B[43mcursor\u001B[49m\u001B[43m)\u001B[49m\n",
      "File \u001B[1;32m~\\PycharmProjects\\DataEngineerTools\\venv\\Lib\\site-packages\\pymongo\\cursor.py:1267\u001B[0m, in \u001B[0;36mCursor.next\u001B[1;34m(self)\u001B[0m\n\u001B[0;32m   1265\u001B[0m     \u001B[38;5;28;01mreturn\u001B[39;00m \u001B[38;5;28mself\u001B[39m\u001B[38;5;241m.\u001B[39m__data\u001B[38;5;241m.\u001B[39mpopleft()\n\u001B[0;32m   1266\u001B[0m \u001B[38;5;28;01melse\u001B[39;00m:\n\u001B[1;32m-> 1267\u001B[0m     \u001B[38;5;28;01mraise\u001B[39;00m \u001B[38;5;167;01mStopIteration\u001B[39;00m\n",
      "\u001B[1;31mStopIteration\u001B[0m: "
     ]
    }
   ],
   "source": [
    "next(cursor)\n"
   ]
  },
  {
   "cell_type": "code",
   "execution_count": 40,
   "metadata": {
    "ExecuteTime": {
     "end_time": "2023-12-05T17:50:45.986338800Z",
     "start_time": "2023-12-05T17:50:45.980907400Z"
    }
   },
   "outputs": [
    {
     "name": "stdout",
     "output_type": "stream",
     "text": [
      "-----\n",
      "{'_id': ObjectId('656f611e20240db3e4b923d8'), 'firstname': 'Thomas', 'lastname': 'Shelby', 'position': 'CEO', 'gender': 'Male', 'age': 35, 'description': \"Thomas 'Tommy' Michael Shelby M.P. OBE, is the leader of the Birmingham criminal gang Peaky Blinders and the patriarch of the Shelby Family. His experiences during and after the First World War have left him disillusioned and determined to move his family up in the world.\", 'nicknames': ['Tom', 'Tommy', 'Thomas'], 'company': 'Peaky Blinders', 'episodes': [1, 2, 4, 5, 6]}\n",
      "-----\n",
      "{'_id': ObjectId('656f61c920240db3e4b923d9'), 'firstname': 'Thomas', 'lastname': 'Shelby', 'position': 'CEO', 'gender': 'Male', 'age': 35, 'description': \"Thomas 'Tommy' Michael Shelby M.P. OBE, is the leader of the Birmingham criminal gang Peaky Blinders and the patriarch of the Shelby Family. His experiences during and after the First World War have left him disillusioned and determined to move his family up in the world.\", 'nicknames': ['Tom', 'Tommy', 'Thomas'], 'company': 'Peaky Blinders', 'episodes': [1, 2, 4, 5, 6]}\n",
      "-----\n",
      "{'_id': ObjectId('656f61e020240db3e4b923da'), 'firstname': 'Thomas', 'lastname': 'Shelby', 'position': 'CEO', 'gender': 'Male', 'age': 35, 'description': \"Thomas 'Tommy' Michael Shelby M.P. OBE, is the leader of the Birmingham criminal gang Peaky Blinders and the patriarch of the Shelby Family. His experiences during and after the First World War have left him disillusioned and determined to move his family up in the world.\", 'nicknames': ['Tom', 'Tommy', 'Thomas'], 'company': 'Peaky Blinders', 'episodes': [1, 2, 4, 5, 6]}\n",
      "-----\n",
      "{'_id': ObjectId('656f61e020240db3e4b923db'), 'firstname': 'Arthur', 'lastname': 'Shelby', 'position': 'Associate', 'gender': 'Male', 'age': 38, 'description': \"Arthur Shelby Jr. is the eldest of the Shelby siblings and the tough member of Peaky Blinders, the Deputy Vice President Shelby Company Limited. He's also a member of the ICA.\", 'company': 'Peaky Blinders', 'episodes': [1, 4, 6]}\n",
      "-----\n",
      "{'_id': ObjectId('656f61e020240db3e4b923dc'), 'firstname': 'John', 'lastname': 'Shelby', 'position': 'Associate', 'gender': 'Male', 'age': 30, 'description': 'John Michael Shelby, also called Johnny or John Boy, was the third of Shelby siblings and a member of the Peaky Blinders.', 'nicknames': ['Johnny', 'John Boy'], 'company': 'Peaky Blinders', 'episodes': [4, 5, 6]}\n",
      "-----\n",
      "{'_id': ObjectId('656f61e020240db3e4b923dd'), 'firstname': 'Ada', 'lastname': 'Thorne', 'position': 'HR', 'gender': 'Female', 'age': 28, 'description': \"Ada Thorne is the fourth and only female of the Shelby sibling. She's the Head of Acquisitions of the Shelby Company Limited.\", 'nicknames': ['Ada Shelby'], 'company': 'Peaky Blinders', 'episodes': [1, 2, 6]}\n",
      "-----\n",
      "{'_id': ObjectId('656f61e020240db3e4b923de'), 'firstname': 'Michael', 'lastname': 'Gray', 'position': 'Accounting', 'gender': 'Male', 'age': 21, 'description': 'Michael Gray is the son of Polly Shelby, his father is dead, and cousin of the Shelby siblings. He is the Chief Accountant in the Shelby Company Limited.', 'nicknames': ['Henry Johnson', 'Jobbie Muncher', 'Mickey'], 'company': 'Peaky Blinders', 'episodes': [5, 6]}\n",
      "-----\n",
      "{'_id': ObjectId('656f61e020240db3e4b923df'), 'firstname': 'Polly', 'lastname': 'Gray', 'gender': 'Female', 'age': 45, 'position': 'CFO', 'description': 'Elizabeth Polly Gray (née Shelby) is the matriarch of the Shelby Family, aunt of the Shelby siblings, the treasurer of the Birmingham criminal gang, the Peaky Blinders, a certified accountant and company treasurer of Shelby Company Limited. ', 'nicknames': ['Aunt Polly', 'Polly Gray', 'Elizabeth Gray', 'Polly Shelby', 'Pol'], 'company': 'Peaky Blinders', 'episodes': [1, 2, 5, 6]}\n"
     ]
    }
   ],
   "source": [
    "for document in cursor :\n",
    "    print('-----')\n",
    "    print(document)"
   ]
  },
  {
   "cell_type": "markdown",
   "metadata": {},
   "source": [
    "Il est possible de passer des arguments à la fonction find() ou find_one()."
   ]
  },
  {
   "cell_type": "code",
   "execution_count": 41,
   "metadata": {
    "ExecuteTime": {
     "end_time": "2023-12-05T17:50:51.530450400Z",
     "start_time": "2023-12-05T17:50:51.514503500Z"
    }
   },
   "outputs": [
    {
     "data": {
      "text/plain": "{'_id': ObjectId('656f611e20240db3e4b923d8'),\n 'firstname': 'Thomas',\n 'lastname': 'Shelby',\n 'position': 'CEO',\n 'gender': 'Male',\n 'age': 35,\n 'description': \"Thomas 'Tommy' Michael Shelby M.P. OBE, is the leader of the Birmingham criminal gang Peaky Blinders and the patriarch of the Shelby Family. His experiences during and after the First World War have left him disillusioned and determined to move his family up in the world.\",\n 'nicknames': ['Tom', 'Tommy', 'Thomas'],\n 'company': 'Peaky Blinders',\n 'episodes': [1, 2, 4, 5, 6]}"
     },
     "execution_count": 41,
     "metadata": {},
     "output_type": "execute_result"
    }
   ],
   "source": [
    "cur = collection_peaky.find({\"lastname\":\"Shelby\"})\n",
    "next(cur)"
   ]
  },
  {
   "cell_type": "markdown",
   "metadata": {},
   "source": [
    "\n",
    "Les différentes opérations mathématiques sont implémentées. \n",
    "\n",
    "- Egalité :  `{key:value}` Correspondance clé valeur entre le champ et la requête. \n",
    "- Différence :  `{key: {$ne:value}}`\n",
    "- Plus (Grand|Petit) que :  les opérateurs sont `$lt` (lower than) ; `$lte` (lower than equals) ; `$gt` (greater than) ; `$gte` (greater than equals) : `{key: {<OPERATEUR>:value}}`.\n"
   ]
  },
  {
   "cell_type": "code",
   "execution_count": 45,
   "metadata": {
    "ExecuteTime": {
     "end_time": "2023-12-05T17:51:35.556047100Z",
     "start_time": "2023-12-05T17:51:35.535497500Z"
    }
   },
   "outputs": [
    {
     "data": {
      "text/plain": "{'_id': ObjectId('656f611e20240db3e4b923d8'),\n 'firstname': 'Thomas',\n 'lastname': 'Shelby',\n 'position': 'CEO',\n 'gender': 'Male',\n 'age': 35,\n 'description': \"Thomas 'Tommy' Michael Shelby M.P. OBE, is the leader of the Birmingham criminal gang Peaky Blinders and the patriarch of the Shelby Family. His experiences during and after the First World War have left him disillusioned and determined to move his family up in the world.\",\n 'nicknames': ['Tom', 'Tommy', 'Thomas'],\n 'company': 'Peaky Blinders',\n 'episodes': [1, 2, 4, 5, 6]}"
     },
     "execution_count": 45,
     "metadata": {},
     "output_type": "execute_result"
    }
   ],
   "source": [
    "cur = collection_peaky.find({\"age\":{\"$gte\" :30}})\n",
    "next(cur)"
   ]
  },
  {
   "cell_type": "markdown",
   "metadata": {},
   "source": [
    "Les opérations logiques sont aussi disponibles.\n",
    "\n",
    "OR `$or` et AND `$and` permettent de faire des requêtes complexes sur une collection. \n",
    "\n"
   ]
  },
  {
   "cell_type": "code",
   "execution_count": 46,
   "metadata": {
    "ExecuteTime": {
     "end_time": "2023-12-05T17:52:51.702732500Z",
     "start_time": "2023-12-05T17:52:51.687432500Z"
    }
   },
   "outputs": [
    {
     "data": {
      "text/plain": "{'_id': ObjectId('656f611e20240db3e4b923d8'),\n 'firstname': 'Thomas',\n 'lastname': 'Shelby',\n 'position': 'CEO',\n 'gender': 'Male',\n 'age': 35,\n 'description': \"Thomas 'Tommy' Michael Shelby M.P. OBE, is the leader of the Birmingham criminal gang Peaky Blinders and the patriarch of the Shelby Family. His experiences during and after the First World War have left him disillusioned and determined to move his family up in the world.\",\n 'nicknames': ['Tom', 'Tommy', 'Thomas'],\n 'company': 'Peaky Blinders',\n 'episodes': [1, 2, 4, 5, 6]}"
     },
     "execution_count": 46,
     "metadata": {},
     "output_type": "execute_result"
    }
   ],
   "source": [
    "cur = collection_peaky.find({\"$and\":[{\"age\":{\"$gte\": 28, \"$lt\":40}}, {\"lastname\":\"Shelby\"}]})\n",
    "next(cur)"
   ]
  },
  {
   "cell_type": "markdown",
   "metadata": {},
   "source": [
    "### Requêtes complexes\n",
    "\n",
    "Les objets Mongo peuvent être assez complexes et les requêtes doivent pouvoir matcher tous types de documents.\n",
    "\n",
    "Pour requêter les valeurs d'une liste : "
   ]
  },
  {
   "cell_type": "code",
   "execution_count": 47,
   "metadata": {
    "ExecuteTime": {
     "end_time": "2023-12-05T17:52:58.026149200Z",
     "start_time": "2023-12-05T17:52:58.009451600Z"
    }
   },
   "outputs": [
    {
     "data": {
      "text/plain": "{'_id': ObjectId('656f61e020240db3e4b923de'),\n 'firstname': 'Michael',\n 'lastname': 'Gray',\n 'position': 'Accounting',\n 'gender': 'Male',\n 'age': 21,\n 'description': 'Michael Gray is the son of Polly Shelby, his father is dead, and cousin of the Shelby siblings. He is the Chief Accountant in the Shelby Company Limited.',\n 'nicknames': ['Henry Johnson', 'Jobbie Muncher', 'Mickey'],\n 'company': 'Peaky Blinders',\n 'episodes': [5, 6]}"
     },
     "execution_count": 47,
     "metadata": {},
     "output_type": "execute_result"
    }
   ],
   "source": [
    "cur = collection_peaky.find( { \"nicknames\":  [\"Henry Johnson\", \"Jobbie Muncher\", \"Mickey\"] } )\n",
    "next(cur)"
   ]
  },
  {
   "cell_type": "markdown",
   "metadata": {},
   "source": [
    "Le champ `nicknames` doit matcher exactement la liste donnée en argument (en contenu et en ordre). \n"
   ]
  },
  {
   "cell_type": "code",
   "execution_count": 48,
   "metadata": {
    "ExecuteTime": {
     "end_time": "2023-12-05T17:53:28.903438700Z",
     "start_time": "2023-12-05T17:53:28.871363500Z"
    }
   },
   "outputs": [
    {
     "ename": "StopIteration",
     "evalue": "",
     "output_type": "error",
     "traceback": [
      "\u001B[1;31m---------------------------------------------------------------------------\u001B[0m",
      "\u001B[1;31mStopIteration\u001B[0m                             Traceback (most recent call last)",
      "Cell \u001B[1;32mIn[48], line 2\u001B[0m\n\u001B[0;32m      1\u001B[0m cur \u001B[38;5;241m=\u001B[39m collection_peaky\u001B[38;5;241m.\u001B[39mfind( { \u001B[38;5;124m\"\u001B[39m\u001B[38;5;124mnicknames\u001B[39m\u001B[38;5;124m\"\u001B[39m:  [\u001B[38;5;124m\"\u001B[39m\u001B[38;5;124mHenry Johnson\u001B[39m\u001B[38;5;124m\"\u001B[39m,  \u001B[38;5;124m\"\u001B[39m\u001B[38;5;124mMickey\u001B[39m\u001B[38;5;124m\"\u001B[39m, \u001B[38;5;124m\"\u001B[39m\u001B[38;5;124mJobbie Muncher\u001B[39m\u001B[38;5;124m\"\u001B[39m] } )\n\u001B[1;32m----> 2\u001B[0m \u001B[38;5;28;43mnext\u001B[39;49m\u001B[43m(\u001B[49m\u001B[43mcur\u001B[49m\u001B[43m)\u001B[49m\n",
      "File \u001B[1;32m~\\PycharmProjects\\DataEngineerTools\\venv\\Lib\\site-packages\\pymongo\\cursor.py:1267\u001B[0m, in \u001B[0;36mCursor.next\u001B[1;34m(self)\u001B[0m\n\u001B[0;32m   1265\u001B[0m     \u001B[38;5;28;01mreturn\u001B[39;00m \u001B[38;5;28mself\u001B[39m\u001B[38;5;241m.\u001B[39m__data\u001B[38;5;241m.\u001B[39mpopleft()\n\u001B[0;32m   1266\u001B[0m \u001B[38;5;28;01melse\u001B[39;00m:\n\u001B[1;32m-> 1267\u001B[0m     \u001B[38;5;28;01mraise\u001B[39;00m \u001B[38;5;167;01mStopIteration\u001B[39;00m\n",
      "\u001B[1;31mStopIteration\u001B[0m: "
     ]
    }
   ],
   "source": [
    "cur = collection_peaky.find( { \"nicknames\":  [\"Henry Johnson\",  \"Mickey\", \"Jobbie Muncher\"] } )\n",
    "next(cur)"
   ]
  },
  {
   "cell_type": "markdown",
   "metadata": {},
   "source": [
    "Lorsqu'aucun document n'a été trouvé le curseur est vide et donc renvoie une erreur lorsque l'on essaye de récupérer le prochain élément.\n",
    "\n",
    "Si maintenant on veut récupérer tous les documents avec \"Mickey\" et \"Jobbie Muncher\", peu importe l'ordre d'apparition et peu importe les autres éléments du tableau.\n"
   ]
  },
  {
   "cell_type": "code",
   "execution_count": 50,
   "metadata": {
    "ExecuteTime": {
     "end_time": "2023-12-05T17:57:12.357950500Z",
     "start_time": "2023-12-05T17:57:12.340559500Z"
    }
   },
   "outputs": [
    {
     "data": {
      "text/plain": "{'_id': ObjectId('656f61e020240db3e4b923de'),\n 'firstname': 'Michael',\n 'lastname': 'Gray',\n 'position': 'Accounting',\n 'gender': 'Male',\n 'age': 21,\n 'description': 'Michael Gray is the son of Polly Shelby, his father is dead, and cousin of the Shelby siblings. He is the Chief Accountant in the Shelby Company Limited.',\n 'nicknames': ['Henry Johnson', 'Jobbie Muncher', 'Mickey'],\n 'company': 'Peaky Blinders',\n 'episodes': [5, 6]}"
     },
     "execution_count": 50,
     "metadata": {},
     "output_type": "execute_result"
    }
   ],
   "source": [
    "cur = collection_peaky.find( { \"nicknames\":  {\"$all\" :[\"Mickey\", \"Jobbie Muncher\"] } } )\n",
    "next(cur)"
   ]
  },
  {
   "cell_type": "markdown",
   "metadata": {},
   "source": [
    "On peut vouloir maintenant récupérer tous les documents comptenant \"Mickey\" dans les nicknames (listes). \n"
   ]
  },
  {
   "cell_type": "code",
   "execution_count": 52,
   "metadata": {
    "ExecuteTime": {
     "end_time": "2023-12-05T18:00:46.787197600Z",
     "start_time": "2023-12-05T18:00:46.774784700Z"
    }
   },
   "outputs": [
    {
     "data": {
      "text/plain": "{'_id': ObjectId('656f61e020240db3e4b923de'),\n 'firstname': 'Michael',\n 'lastname': 'Gray',\n 'position': 'Accounting',\n 'gender': 'Male',\n 'age': 21,\n 'description': 'Michael Gray is the son of Polly Shelby, his father is dead, and cousin of the Shelby siblings. He is the Chief Accountant in the Shelby Company Limited.',\n 'nicknames': ['Henry Johnson', 'Jobbie Muncher', 'Mickey'],\n 'company': 'Peaky Blinders',\n 'episodes': [5, 6]}"
     },
     "execution_count": 52,
     "metadata": {},
     "output_type": "execute_result"
    }
   ],
   "source": [
    "cur = collection_peaky.find( { \"nicknames\": \"Mickey\" } )\n",
    "next(cur)"
   ]
  },
  {
   "cell_type": "markdown",
   "metadata": {},
   "source": [
    "Comme on vient de le voir, une requête sur le champ d'une liste se construit de la même manière qu'une requête sur un champ 'basique'.\n",
    "\n",
    "La syntaxe générique d'une requête Mongo est la suivante.\n",
    "```\n",
    "    db.<YOUR_COLLECTION_NAME>.find( { <array field>: { <operator1>: <value1>, ... } })\n",
    "```"
   ]
  },
  {
   "cell_type": "markdown",
   "metadata": {},
   "source": [
    "### Limitation, Projection et Tris"
   ]
  },
  {
   "cell_type": "markdown",
   "metadata": {},
   "source": [
    "Pour des raisons de performances, il peut être intéressant de limiter les accès réseaux. Pour cela, on peut sélectionner les champs devant être retournés (Projection). On peut aussi demander de limiter le nombre de documents (Limitation).\n",
    "\n",
    "La syntaxe est la suivante : \n",
    "\n",
    "```\n",
    "db.<YOUR_COLLECTION_NAME>.find(QUERY, PROJECTION).LIMIT(N_DOCUMENTS)\n",
    "```\n",
    "\n",
    "Un exemple de projection en utilisant les requêtes déjà utilisées plus haut.\n"
   ]
  },
  {
   "cell_type": "code",
   "execution_count": 64,
   "metadata": {
    "ExecuteTime": {
     "end_time": "2023-12-05T18:03:30.711113200Z",
     "start_time": "2023-12-05T18:03:30.698595900Z"
    }
   },
   "outputs": [
    {
     "data": {
      "text/plain": "{'_id': ObjectId('656f611e20240db3e4b923d8'), 'position': 'CEO'}"
     },
     "execution_count": 64,
     "metadata": {},
     "output_type": "execute_result"
    }
   ],
   "source": [
    "cur = collection_peaky.find({\"lastname\":\"Shelby\"}, {\"position\":1})\n",
    "next(cur)"
   ]
  },
  {
   "cell_type": "markdown",
   "metadata": {},
   "source": [
    "Avec une requête plus complexe et une autre projection."
   ]
  },
  {
   "cell_type": "code",
   "execution_count": 65,
   "metadata": {
    "ExecuteTime": {
     "end_time": "2023-12-05T18:04:31.127589600Z",
     "start_time": "2023-12-05T18:04:31.113588100Z"
    }
   },
   "outputs": [
    {
     "data": {
      "text/plain": "{'_id': ObjectId('656f611e20240db3e4b923d8'), 'firstname': 'Thomas'}"
     },
     "execution_count": 65,
     "metadata": {},
     "output_type": "execute_result"
    }
   ],
   "source": [
    "cur = collection_peaky.find({\"$and\":[{\"age\":{\"$gte\": 28, \"$lt\":40}}, {\"lastname\":\"Shelby\"}]}, {\"firstname\":1})\n",
    "next(cur)"
   ]
  },
  {
   "cell_type": "markdown",
   "metadata": {},
   "source": [
    "Un exemple de limitation : "
   ]
  },
  {
   "cell_type": "code",
   "execution_count": 66,
   "metadata": {
    "ExecuteTime": {
     "end_time": "2023-12-05T18:04:33.478201400Z",
     "start_time": "2023-12-05T18:04:33.462317400Z"
    }
   },
   "outputs": [
    {
     "data": {
      "text/plain": "[{'_id': ObjectId('656f611e20240db3e4b923d8'),\n  'firstname': 'Thomas',\n  'lastname': 'Shelby',\n  'position': 'CEO',\n  'gender': 'Male',\n  'age': 35,\n  'description': \"Thomas 'Tommy' Michael Shelby M.P. OBE, is the leader of the Birmingham criminal gang Peaky Blinders and the patriarch of the Shelby Family. His experiences during and after the First World War have left him disillusioned and determined to move his family up in the world.\",\n  'nicknames': ['Tom', 'Tommy', 'Thomas'],\n  'company': 'Peaky Blinders',\n  'episodes': [1, 2, 4, 5, 6]},\n {'_id': ObjectId('656f61c920240db3e4b923d9'),\n  'firstname': 'Thomas',\n  'lastname': 'Shelby',\n  'position': 'CEO',\n  'gender': 'Male',\n  'age': 35,\n  'description': \"Thomas 'Tommy' Michael Shelby M.P. OBE, is the leader of the Birmingham criminal gang Peaky Blinders and the patriarch of the Shelby Family. His experiences during and after the First World War have left him disillusioned and determined to move his family up in the world.\",\n  'nicknames': ['Tom', 'Tommy', 'Thomas'],\n  'company': 'Peaky Blinders',\n  'episodes': [1, 2, 4, 5, 6]}]"
     },
     "execution_count": 66,
     "metadata": {},
     "output_type": "execute_result"
    }
   ],
   "source": [
    "cur = collection_peaky.find({\"lastname\":\"Shelby\"}).limit(2)\n",
    "list(cur)"
   ]
  },
  {
   "cell_type": "markdown",
   "metadata": {},
   "source": [
    "Il est aussi possible de passer directement au Nième document avec la fonction `skip()`."
   ]
  },
  {
   "cell_type": "code",
   "execution_count": 67,
   "metadata": {
    "ExecuteTime": {
     "end_time": "2023-12-05T18:04:41.316965400Z",
     "start_time": "2023-12-05T18:04:41.305484500Z"
    }
   },
   "outputs": [
    {
     "data": {
      "text/plain": "[{'_id': ObjectId('656f611e20240db3e4b923d8'),\n  'firstname': 'Thomas',\n  'lastname': 'Shelby',\n  'position': 'CEO',\n  'gender': 'Male',\n  'age': 35,\n  'description': \"Thomas 'Tommy' Michael Shelby M.P. OBE, is the leader of the Birmingham criminal gang Peaky Blinders and the patriarch of the Shelby Family. His experiences during and after the First World War have left him disillusioned and determined to move his family up in the world.\",\n  'nicknames': ['Tom', 'Tommy', 'Thomas'],\n  'company': 'Peaky Blinders',\n  'episodes': [1, 2, 4, 5, 6]},\n {'_id': ObjectId('656f61c920240db3e4b923d9'),\n  'firstname': 'Thomas',\n  'lastname': 'Shelby',\n  'position': 'CEO',\n  'gender': 'Male',\n  'age': 35,\n  'description': \"Thomas 'Tommy' Michael Shelby M.P. OBE, is the leader of the Birmingham criminal gang Peaky Blinders and the patriarch of the Shelby Family. His experiences during and after the First World War have left him disillusioned and determined to move his family up in the world.\",\n  'nicknames': ['Tom', 'Tommy', 'Thomas'],\n  'company': 'Peaky Blinders',\n  'episodes': [1, 2, 4, 5, 6]},\n {'_id': ObjectId('656f61e020240db3e4b923da'),\n  'firstname': 'Thomas',\n  'lastname': 'Shelby',\n  'position': 'CEO',\n  'gender': 'Male',\n  'age': 35,\n  'description': \"Thomas 'Tommy' Michael Shelby M.P. OBE, is the leader of the Birmingham criminal gang Peaky Blinders and the patriarch of the Shelby Family. His experiences during and after the First World War have left him disillusioned and determined to move his family up in the world.\",\n  'nicknames': ['Tom', 'Tommy', 'Thomas'],\n  'company': 'Peaky Blinders',\n  'episodes': [1, 2, 4, 5, 6]},\n {'_id': ObjectId('656f61e020240db3e4b923db'),\n  'firstname': 'Arthur',\n  'lastname': 'Shelby',\n  'position': 'Associate',\n  'gender': 'Male',\n  'age': 38,\n  'description': \"Arthur Shelby Jr. is the eldest of the Shelby siblings and the tough member of Peaky Blinders, the Deputy Vice President Shelby Company Limited. He's also a member of the ICA.\",\n  'company': 'Peaky Blinders',\n  'episodes': [1, 4, 6]},\n {'_id': ObjectId('656f61e020240db3e4b923dc'),\n  'firstname': 'John',\n  'lastname': 'Shelby',\n  'position': 'Associate',\n  'gender': 'Male',\n  'age': 30,\n  'description': 'John Michael Shelby, also called Johnny or John Boy, was the third of Shelby siblings and a member of the Peaky Blinders.',\n  'nicknames': ['Johnny', 'John Boy'],\n  'company': 'Peaky Blinders',\n  'episodes': [4, 5, 6]}]"
     },
     "execution_count": 67,
     "metadata": {},
     "output_type": "execute_result"
    }
   ],
   "source": [
    "list(collection_peaky.find({\"lastname\":\"Shelby\"}))"
   ]
  },
  {
   "cell_type": "code",
   "execution_count": 68,
   "metadata": {
    "ExecuteTime": {
     "end_time": "2023-12-05T18:04:45.012786100Z",
     "start_time": "2023-12-05T18:04:44.996764800Z"
    }
   },
   "outputs": [
    {
     "data": {
      "text/plain": "{'_id': ObjectId('656f61c920240db3e4b923d9'),\n 'firstname': 'Thomas',\n 'lastname': 'Shelby',\n 'position': 'CEO',\n 'gender': 'Male',\n 'age': 35,\n 'description': \"Thomas 'Tommy' Michael Shelby M.P. OBE, is the leader of the Birmingham criminal gang Peaky Blinders and the patriarch of the Shelby Family. His experiences during and after the First World War have left him disillusioned and determined to move his family up in the world.\",\n 'nicknames': ['Tom', 'Tommy', 'Thomas'],\n 'company': 'Peaky Blinders',\n 'episodes': [1, 2, 4, 5, 6]}"
     },
     "execution_count": 68,
     "metadata": {},
     "output_type": "execute_result"
    }
   ],
   "source": [
    "cur = collection_peaky.find({\"lastname\":\"Shelby\"}).skip(1)\n",
    "next(cur)"
   ]
  },
  {
   "cell_type": "markdown",
   "metadata": {},
   "source": [
    "On peut trier les résultats récupérés. \n",
    "\n",
    "Pour trier dans l'ordre ascendant et donc récupérer le plus jeune de la famille:"
   ]
  },
  {
   "cell_type": "code",
   "execution_count": 73,
   "metadata": {
    "ExecuteTime": {
     "end_time": "2023-12-05T18:05:26.014355400Z",
     "start_time": "2023-12-05T18:05:25.996807100Z"
    }
   },
   "outputs": [
    {
     "data": {
      "text/plain": "{'_id': ObjectId('656f61e020240db3e4b923dc'), 'firstname': 'John'}"
     },
     "execution_count": 73,
     "metadata": {},
     "output_type": "execute_result"
    }
   ],
   "source": [
    "cur = collection_peaky.find({\"lastname\":\"Shelby\"}, {\"firstname\":1}).sort([(\"age\", 1)])\n",
    "next(cur)"
   ]
  },
  {
   "cell_type": "markdown",
   "metadata": {},
   "source": [
    "Pour trier dans l'ordre descendant :\n"
   ]
  },
  {
   "cell_type": "code",
   "execution_count": 74,
   "metadata": {
    "ExecuteTime": {
     "end_time": "2023-12-05T18:05:31.591345600Z",
     "start_time": "2023-12-05T18:05:31.575954200Z"
    }
   },
   "outputs": [
    {
     "data": {
      "text/plain": "{'_id': ObjectId('656f61e020240db3e4b923db'), 'firstname': 'Arthur'}"
     },
     "execution_count": 74,
     "metadata": {},
     "output_type": "execute_result"
    }
   ],
   "source": [
    "cur = collection_peaky.find({\"lastname\":\"Shelby\"}, {\"firstname\":1}).sort([(\"age\", -1)])\n",
    "next(cur)"
   ]
  },
  {
   "cell_type": "markdown",
   "metadata": {},
   "source": [
    "On peut aussi trier selon une clé puis une autre."
   ]
  },
  {
   "cell_type": "code",
   "execution_count": 75,
   "metadata": {
    "ExecuteTime": {
     "end_time": "2023-12-05T18:05:36.228069800Z",
     "start_time": "2023-12-05T18:05:36.213782800Z"
    }
   },
   "outputs": [
    {
     "data": {
      "text/plain": "{'_id': ObjectId('656f61e020240db3e4b923db'), 'firstname': 'Arthur'}"
     },
     "execution_count": 75,
     "metadata": {},
     "output_type": "execute_result"
    }
   ],
   "source": [
    "cur = collection_peaky.find({\"lastname\":\"Shelby\"}, {\"firstname\":1}).sort([(\"age\", -1), (\"firstname\", 1)])\n",
    "next(cur)"
   ]
  },
  {
   "cell_type": "markdown",
   "metadata": {},
   "source": [
    "## Indexation"
   ]
  },
  {
   "cell_type": "markdown",
   "metadata": {},
   "source": [
    "L'indexation permet d'accélérer les performances sur les requêtes. Si aucun index n'est mis en place, MongoDB doit effectuer un scan de tous les documents pour trouver ceux qui sont pertinents. L'index permet de stocker les valeurs d'un champ de façon triée pour limiter le nombre de document à parcourir pour effectuer une requête. \n",
    "\n",
    "Vous pouvez accéder à plus d'informations ici : https://docs.mongodb.com/manual/indexes/\n",
    "\n",
    "### Indexation simple\n",
    "\n",
    "L'indexation simple permet de créer l'index en fonction d'un seul champ. \n",
    "\n",
    "On spécifie alors l'ordre dans lequel l'index est créé et trié. \n",
    "\n",
    "Dans l'ordre croissant, "
   ]
  },
  {
   "cell_type": "code",
   "execution_count": 76,
   "metadata": {
    "ExecuteTime": {
     "end_time": "2023-12-05T18:17:05.422722Z",
     "start_time": "2023-12-05T18:17:05.390252Z"
    }
   },
   "outputs": [
    {
     "data": {
      "text/plain": "'age_1'"
     },
     "execution_count": 76,
     "metadata": {},
     "output_type": "execute_result"
    }
   ],
   "source": [
    "collection_peaky.create_index([(\"age\", 1)])"
   ]
  },
  {
   "cell_type": "code",
   "execution_count": 77,
   "metadata": {
    "ExecuteTime": {
     "end_time": "2023-12-05T18:17:09.902307600Z",
     "start_time": "2023-12-05T18:17:09.897622900Z"
    }
   },
   "outputs": [
    {
     "data": {
      "text/plain": "{'_id_': {'v': 2, 'key': [('_id', 1)]}, 'age_1': {'v': 2, 'key': [('age', 1)]}}"
     },
     "execution_count": 77,
     "metadata": {},
     "output_type": "execute_result"
    }
   ],
   "source": [
    "collection_peaky.index_information()"
   ]
  },
  {
   "cell_type": "markdown",
   "metadata": {},
   "source": [
    "Et dans l'ordre décroissant, "
   ]
  },
  {
   "cell_type": "code",
   "execution_count": 84,
   "metadata": {
    "ExecuteTime": {
     "end_time": "2023-12-05T18:35:50.099143800Z",
     "start_time": "2023-12-05T18:35:50.068726600Z"
    }
   },
   "outputs": [
    {
     "data": {
      "text/plain": "'age_-1'"
     },
     "execution_count": 84,
     "metadata": {},
     "output_type": "execute_result"
    }
   ],
   "source": [
    "collection_peaky.create_index([(\"age\", -1)])"
   ]
  },
  {
   "cell_type": "code",
   "execution_count": 79,
   "metadata": {
    "ExecuteTime": {
     "end_time": "2023-12-05T18:17:32.029117600Z",
     "start_time": "2023-12-05T18:17:32.015255100Z"
    }
   },
   "outputs": [
    {
     "data": {
      "text/plain": "{'_id_': {'v': 2, 'key': [('_id', 1)]},\n 'age_1': {'v': 2, 'key': [('age', 1)]},\n 'age_-1': {'v': 2, 'key': [('age', -1)]}}"
     },
     "execution_count": 79,
     "metadata": {},
     "output_type": "execute_result"
    }
   ],
   "source": [
    "collection_peaky.index_information()"
   ]
  },
  {
   "cell_type": "markdown",
   "metadata": {},
   "source": [
    "Pour supprimer un index en particulier : "
   ]
  },
  {
   "cell_type": "code",
   "execution_count": 80,
   "metadata": {
    "ExecuteTime": {
     "end_time": "2023-12-05T18:18:03.338682200Z",
     "start_time": "2023-12-05T18:18:03.324399200Z"
    }
   },
   "outputs": [],
   "source": [
    "collection_peaky.drop_index(\"age_1\")"
   ]
  },
  {
   "cell_type": "code",
   "execution_count": 81,
   "metadata": {
    "ExecuteTime": {
     "end_time": "2023-12-05T18:18:17.115545300Z",
     "start_time": "2023-12-05T18:18:17.111920300Z"
    }
   },
   "outputs": [
    {
     "data": {
      "text/plain": "{'_id_': {'v': 2, 'key': [('_id', 1)]},\n 'age_-1': {'v': 2, 'key': [('age', -1)]}}"
     },
     "execution_count": 81,
     "metadata": {},
     "output_type": "execute_result"
    }
   ],
   "source": [
    "collection_peaky.index_information()"
   ]
  },
  {
   "cell_type": "markdown",
   "metadata": {},
   "source": [
    "Pour supprimer tous les index : "
   ]
  },
  {
   "cell_type": "code",
   "execution_count": 82,
   "metadata": {
    "ExecuteTime": {
     "end_time": "2023-12-05T18:18:26.240538900Z",
     "start_time": "2023-12-05T18:18:26.225991400Z"
    }
   },
   "outputs": [],
   "source": [
    "collection_peaky.drop_indexes()"
   ]
  },
  {
   "cell_type": "code",
   "execution_count": 83,
   "metadata": {
    "ExecuteTime": {
     "end_time": "2023-12-05T18:18:27.975223Z",
     "start_time": "2023-12-05T18:18:27.961209Z"
    }
   },
   "outputs": [
    {
     "data": {
      "text/plain": "{'_id_': {'v': 2, 'key': [('_id', 1)]}}"
     },
     "execution_count": 83,
     "metadata": {},
     "output_type": "execute_result"
    }
   ],
   "source": [
    "collection_peaky.index_information()"
   ]
  },
  {
   "cell_type": "markdown",
   "metadata": {},
   "source": [
    "Les performances ne sont visibles que pour des collections de taille importante. Mais se ressente très rapidement et sont souvent indispensables. "
   ]
  },
  {
   "cell_type": "markdown",
   "metadata": {},
   "source": [
    "### Indexation composée\n",
    "\n",
    "L'indexation composée permet de créer un index basé sur deux champs différents. L'ordre des champs spécifié dans la création d'un index est important.On peut trier dans l'ordre croissant le premier champ et dans l'ordre décroissant le deuxième champ. \n",
    "\n",
    "Il est très utile quand plusieurs champs sont souvent utilisé conjointement pour effectuer des queries. "
   ]
  },
  {
   "cell_type": "code",
   "execution_count": 170,
   "metadata": {},
   "outputs": [
    {
     "data": {
      "text/plain": [
       "'age_-1_firstname_1'"
      ]
     },
     "execution_count": 170,
     "metadata": {},
     "output_type": "execute_result"
    }
   ],
   "source": [
    "collection_peaky.create_index([(\"age\", -1), (\"firstname\", 1)])"
   ]
  },
  {
   "cell_type": "code",
   "execution_count": 171,
   "metadata": {},
   "outputs": [
    {
     "data": {
      "text/plain": [
       "{'_id_': {'v': 2, 'key': [('_id', 1)], 'ns': 'series.peaky'},\n",
       " 'age_-1_firstname_1': {'v': 2,\n",
       "  'key': [('age', -1), ('firstname', 1)],\n",
       "  'ns': 'series.peaky'}}"
      ]
     },
     "execution_count": 171,
     "metadata": {},
     "output_type": "execute_result"
    }
   ],
   "source": [
    "collection_peaky.index_information()"
   ]
  },
  {
   "cell_type": "code",
   "execution_count": 172,
   "metadata": {},
   "outputs": [
    {
     "ename": "SyntaxError",
     "evalue": "invalid syntax (<ipython-input-172-477be69161df>, line 1)",
     "output_type": "error",
     "traceback": [
      "\u001B[0;36m  File \u001B[0;32m\"<ipython-input-172-477be69161df>\"\u001B[0;36m, line \u001B[0;32m1\u001B[0m\n\u001B[0;31m    Indexations spéciales\u001B[0m\n\u001B[0m                        ^\u001B[0m\n\u001B[0;31mSyntaxError\u001B[0m\u001B[0;31m:\u001B[0m invalid syntax\n"
     ]
    }
   ],
   "source": [
    "Indexations spéciales"
   ]
  },
  {
   "cell_type": "markdown",
   "metadata": {},
   "source": [
    "\n",
    "### Indexations spéciales\n",
    "\n",
    "Mongo permet plusieurs indexations : \n",
    "\n",
    "- Text : permet de faire de la recherche naturelle de *queries* dans du texte. Cet index peut devenir très rapidement très important et prendre beaucoup de place mémoire. Cet index textuel contient un index par mot contenu dans l'ensemble des documents. Il peut aussi être très lent à créer.\n",
    "- Multiclés : permet de créer un index sur les éléments d'objets stockés dans des listes ou *arrays*.\n",
    "- 2D, 2DSphere, geoHaystack : permet de créer des index sur des données géospatiales.\n",
    "- Hash : permet de stocker les valeurs des champs sous forme de *hash*.\n",
    "\n",
    "Dans ce cours, on se contentera de faire de l'indexation textuelle.\n",
    "\n",
    "Tous ces mécanismes d'indexation permettent d'accélérer les performances des requêtes. Mais ils peuvent avoir des effets négatifs: \n",
    "\n",
    "- Sur l'occupation mémoire : Chaque index doit avoir un minimum de 8 kB et peut prendre beaucoup de place sur le disque et dans la mémoire RAM.\n",
    "- Sur le temps d'exécution : les opérations d'insertion et d'écriture peuvent être longues puisque Mongo doit insérer chaque nouveau document dans l'index en plus de l'insertion dans la collection.\n",
    "\n",
    "Exemple : \n",
    "\n",
    "Pour créer un index textuel sur la description des personnages : \n"
   ]
  },
  {
   "cell_type": "code",
   "execution_count": 173,
   "metadata": {},
   "outputs": [
    {
     "data": {
      "text/plain": [
       "'description_text'"
      ]
     },
     "execution_count": 173,
     "metadata": {},
     "output_type": "execute_result"
    }
   ],
   "source": [
    "collection_peaky.create_index([(\"description\",  \"text\")])"
   ]
  },
  {
   "cell_type": "code",
   "execution_count": 174,
   "metadata": {},
   "outputs": [
    {
     "data": {
      "text/plain": [
       "{'_id_': {'v': 2, 'key': [('_id', 1)], 'ns': 'series.peaky'},\n",
       " 'age_-1_firstname_1': {'v': 2,\n",
       "  'key': [('age', -1), ('firstname', 1)],\n",
       "  'ns': 'series.peaky'},\n",
       " 'description_text': {'v': 2,\n",
       "  'key': [('_fts', 'text'), ('_ftsx', 1)],\n",
       "  'ns': 'series.peaky',\n",
       "  'weights': SON([('description', 1)]),\n",
       "  'default_language': 'english',\n",
       "  'language_override': 'language',\n",
       "  'textIndexVersion': 3}}"
      ]
     },
     "execution_count": 174,
     "metadata": {},
     "output_type": "execute_result"
    }
   ],
   "source": [
    "collection_peaky.index_information()"
   ]
  },
  {
   "cell_type": "markdown",
   "metadata": {},
   "source": [
    "Uniquement après que cet index de texte ait été créé, on peut utiliser la méthode `find()` avec l'argument `$text` pour faire une requête dans le texte.\n"
   ]
  },
  {
   "cell_type": "code",
   "execution_count": 175,
   "metadata": {},
   "outputs": [
    {
     "data": {
      "text/plain": [
       "{'_id': ObjectId('5ddac4709ed5d6001efd043b'),\n",
       " 'firstname': 'Ada',\n",
       " 'lastname': 'Thorne',\n",
       " 'position': 'HR',\n",
       " 'gender': 'Female',\n",
       " 'age': 28,\n",
       " 'description': \"Ada Thorne is the fourth and only female of the Shelby sibling. She's the Head of Acquisitions of the Shelby Company Limited.\",\n",
       " 'nicknames': ['Ada Shelby'],\n",
       " 'company': 'Peaky Blinders',\n",
       " 'episodes': [1, 2, 6]}"
      ]
     },
     "execution_count": 175,
     "metadata": {},
     "output_type": "execute_result"
    }
   ],
   "source": [
    "cur = collection_peaky.find( { \"$text\": { \"$search\": \"female\" } } )\n",
    "next(cur)"
   ]
  },
  {
   "cell_type": "markdown",
   "metadata": {},
   "source": [
    "    \n",
    "#### Exercice\n",
    "\n",
    "Supprimez tous les index créés et réessayez de faire la même requête. Que se passe-t-il ?\n"
   ]
  },
  {
   "cell_type": "markdown",
   "metadata": {},
   "source": [
    "## Mettre à jour\n",
    "\n",
    "La mise à jour des documents et une opération très courante dans les bases de données. MongoDB implémente trois fonctions différentes permettant de mettre à jour un ou plusieurs documents à la fois.\n",
    "\n",
    "- Mettre à jour un seul document : \n",
    "\n",
    "```\n",
    "db.<YOUR_COLLECTION_NAME>.updateOne(<filter>, <update>, <options>)\n",
    "```\n",
    "\n",
    "- Le champ `filter` est une requête comme on vient de voir précédemment ; \n",
    "- Le champ `update` permet de préciser la requête de mise à jour ;\n",
    "- Le champ `option` permet de donner des arguments à cette opération.\n",
    "\n",
    " Cette fonction va mettre à jour le premier élément renvoyé par la requête `filter`. \n",
    " \n",
    " Par exemple : \n",
    " \n"
   ]
  },
  {
   "cell_type": "code",
   "execution_count": 176,
   "metadata": {},
   "outputs": [
    {
     "data": {
      "text/plain": [
       "<pymongo.results.UpdateResult at 0x7fe344844e88>"
      ]
     },
     "execution_count": 176,
     "metadata": {},
     "output_type": "execute_result"
    }
   ],
   "source": [
    "result = collection_peaky.update_one({\"firstname\":\"Thomas\"}, {\"$set\":{\"maincharacter\":True}})\n",
    "result"
   ]
  },
  {
   "cell_type": "code",
   "execution_count": 177,
   "metadata": {},
   "outputs": [
    {
     "data": {
      "text/plain": [
       "{'_id': ObjectId('5ddac1ac9ed5d6001efd0430'),\n",
       " 'firstname': 'Thomas',\n",
       " 'lastname': 'Shelby',\n",
       " 'position': 'CEO',\n",
       " 'gender': 'Male',\n",
       " 'age': 35,\n",
       " 'description': \"Thomas 'Tommy' Michael Shelby M.P. OBE, is the leader of the Birmingham criminal gang Peaky Blinders and the patriarch of the Shelby Family. His experiences during and after the First World War have left him disillusioned and determined to move his family up in the world.\",\n",
       " 'nicknames': ['Tom', 'Tommy', 'Thomas'],\n",
       " 'company': 'Peaky Blinders',\n",
       " 'episodes': [1, 2, 4, 5, 6],\n",
       " 'maincharacter': True}"
      ]
     },
     "execution_count": 177,
     "metadata": {},
     "output_type": "execute_result"
    }
   ],
   "source": [
    "cur = collection_peaky.find_one({\"firstname\":\"Thomas\"})\n",
    "cur"
   ]
  },
  {
   "cell_type": "markdown",
   "metadata": {},
   "source": [
    "Ici le champ update utilise le selecteur `$set` qui permet de définir les couples clé:valeurs à mettre à jour.\n",
    "\n",
    "- Mettre à jour une liste de documents : \n",
    "\n",
    "```\n",
    "db.<YOUR_COLLECTION_NAME>.update_many(<filter>, <update>, <options>)\n",
    "```\n",
    "\n",
    "Cette fonction va mettre à jour tous les documents concernés par la requête `filter`.\n",
    "Dans l'exemple ci-dessous nous allons mettre à jour tous les éléments correspondant à la family Shelby.\n"
   ]
  },
  {
   "cell_type": "code",
   "execution_count": 178,
   "metadata": {},
   "outputs": [
    {
     "data": {
      "text/plain": [
       "<pymongo.results.UpdateResult at 0x7fe34483f308>"
      ]
     },
     "execution_count": 178,
     "metadata": {},
     "output_type": "execute_result"
    }
   ],
   "source": [
    "result = collection_peaky.update_many({\"lastname\":\"Shelby\"}, {\"$set\":{\"shelbyFamily\":True}})\n",
    "result"
   ]
  },
  {
   "cell_type": "code",
   "execution_count": 179,
   "metadata": {},
   "outputs": [
    {
     "data": {
      "text/plain": [
       "[{'_id': ObjectId('5ddac1ac9ed5d6001efd0430'),\n",
       "  'firstname': 'Thomas',\n",
       "  'lastname': 'Shelby',\n",
       "  'position': 'CEO',\n",
       "  'gender': 'Male',\n",
       "  'age': 35,\n",
       "  'description': \"Thomas 'Tommy' Michael Shelby M.P. OBE, is the leader of the Birmingham criminal gang Peaky Blinders and the patriarch of the Shelby Family. His experiences during and after the First World War have left him disillusioned and determined to move his family up in the world.\",\n",
       "  'nicknames': ['Tom', 'Tommy', 'Thomas'],\n",
       "  'company': 'Peaky Blinders',\n",
       "  'episodes': [1, 2, 4, 5, 6],\n",
       "  'maincharacter': True,\n",
       "  'shelbyFamily': True},\n",
       " {'_id': ObjectId('5ddac1ac9ed5d6001efd0431'),\n",
       "  'firstname': 'Arthur',\n",
       "  'lastname': 'Shelby',\n",
       "  'position': 'Associate',\n",
       "  'gender': 'Male',\n",
       "  'age': 38,\n",
       "  'description': \"Arthur Shelby Jr. is the eldest of the Shelby siblings and the tough member of Peaky Blinders, the Deputy Vice President Shelby Company Limited. He's also a member of the ICA.\",\n",
       "  'company': 'Peaky Blinders',\n",
       "  'episodes': [1, 4, 6],\n",
       "  'shelbyFamily': True},\n",
       " {'_id': ObjectId('5ddac1ac9ed5d6001efd0432'),\n",
       "  'firstname': 'John',\n",
       "  'lastname': 'Shelby',\n",
       "  'position': 'Associate',\n",
       "  'gender': 'Male',\n",
       "  'age': 30,\n",
       "  'description': 'John Michael Shelby, also called Johnny or John Boy, was the third of Shelby siblings and a member of the Peaky Blinders.',\n",
       "  'nicknames': ['Johnny', 'John Boy'],\n",
       "  'company': 'Peaky Blinders',\n",
       "  'episodes': [4, 5, 6],\n",
       "  'shelbyFamily': True},\n",
       " {'_id': ObjectId('5ddac46e9ed5d6001efd0437'),\n",
       "  'firstname': 'Thomas',\n",
       "  'lastname': 'Shelby',\n",
       "  'position': 'CEO',\n",
       "  'gender': 'Male',\n",
       "  'age': 35,\n",
       "  'description': \"Thomas 'Tommy' Michael Shelby M.P. OBE, is the leader of the Birmingham criminal gang Peaky Blinders and the patriarch of the Shelby Family. His experiences during and after the First World War have left him disillusioned and determined to move his family up in the world.\",\n",
       "  'nicknames': ['Tom', 'Tommy', 'Thomas'],\n",
       "  'company': 'Peaky Blinders',\n",
       "  'episodes': [1, 2, 4, 5, 6],\n",
       "  'shelbyFamily': True},\n",
       " {'_id': ObjectId('5ddac4709ed5d6001efd0438'),\n",
       "  'firstname': 'Thomas',\n",
       "  'lastname': 'Shelby',\n",
       "  'position': 'CEO',\n",
       "  'gender': 'Male',\n",
       "  'age': 35,\n",
       "  'description': \"Thomas 'Tommy' Michael Shelby M.P. OBE, is the leader of the Birmingham criminal gang Peaky Blinders and the patriarch of the Shelby Family. His experiences during and after the First World War have left him disillusioned and determined to move his family up in the world.\",\n",
       "  'nicknames': ['Tom', 'Tommy', 'Thomas'],\n",
       "  'company': 'Peaky Blinders',\n",
       "  'episodes': [1, 2, 4, 5, 6],\n",
       "  'shelbyFamily': True},\n",
       " {'_id': ObjectId('5ddac4709ed5d6001efd0439'),\n",
       "  'firstname': 'Arthur',\n",
       "  'lastname': 'Shelby',\n",
       "  'position': 'Associate',\n",
       "  'gender': 'Male',\n",
       "  'age': 38,\n",
       "  'description': \"Arthur Shelby Jr. is the eldest of the Shelby siblings and the tough member of Peaky Blinders, the Deputy Vice President Shelby Company Limited. He's also a member of the ICA.\",\n",
       "  'company': 'Peaky Blinders',\n",
       "  'episodes': [1, 4, 6],\n",
       "  'shelbyFamily': True},\n",
       " {'_id': ObjectId('5ddac4709ed5d6001efd043a'),\n",
       "  'firstname': 'John',\n",
       "  'lastname': 'Shelby',\n",
       "  'position': 'Associate',\n",
       "  'gender': 'Male',\n",
       "  'age': 30,\n",
       "  'description': 'John Michael Shelby, also called Johnny or John Boy, was the third of Shelby siblings and a member of the Peaky Blinders.',\n",
       "  'nicknames': ['Johnny', 'John Boy'],\n",
       "  'company': 'Peaky Blinders',\n",
       "  'episodes': [4, 5, 6],\n",
       "  'shelbyFamily': True}]"
      ]
     },
     "execution_count": 179,
     "metadata": {},
     "output_type": "execute_result"
    }
   ],
   "source": [
    "cur = collection_peaky.find({\"lastname\":\"Shelby\"})\n",
    "list(cur)"
   ]
  },
  {
   "cell_type": "markdown",
   "metadata": {},
   "source": [
    "\n",
    "L'option `upsert` peut être très intéressante. Elle permet d'ajouter un document si il n'existe pas déjà directement depuis la fonction `update()`. Par défaut, cette option est `false`. \n",
    " \n",
    " \n",
    "```\n",
    "db.<YOUR_COLLECTION_NAME>.update(<filter>, <update>, {upsert: true})\n",
    "```\n",
    "    "
   ]
  },
  {
   "cell_type": "markdown",
   "metadata": {},
   "source": [
    "## Supprimer \n",
    "\n",
    "Pour supprimer des documents, comme pour la mise à jour, il existe deux méthodes : \n",
    "\n",
    "- `deleteMany({ <field1>: <value1>, ... }`\n",
    "- `deleteOne({ <field1>: <value1>, ... }`\n",
    "\n",
    "Pour supprimer tous les documents possédant une condition : \n"
   ]
  },
  {
   "cell_type": "code",
   "execution_count": 180,
   "metadata": {},
   "outputs": [
    {
     "data": {
      "text/plain": [
       "<pymongo.results.DeleteResult at 0x7fe34483c588>"
      ]
     },
     "execution_count": 180,
     "metadata": {},
     "output_type": "execute_result"
    }
   ],
   "source": [
    "result = collection_peaky.delete_many({\"lastname\": \"Gray\"})\n",
    "result"
   ]
  },
  {
   "cell_type": "code",
   "execution_count": 181,
   "metadata": {},
   "outputs": [
    {
     "ename": "StopIteration",
     "evalue": "",
     "output_type": "error",
     "traceback": [
      "\u001B[0;31m---------------------------------------------------------------------------\u001B[0m",
      "\u001B[0;31mStopIteration\u001B[0m                             Traceback (most recent call last)",
      "\u001B[0;32m<ipython-input-181-19db29cca0f3>\u001B[0m in \u001B[0;36m<module>\u001B[0;34m\u001B[0m\n\u001B[1;32m      1\u001B[0m \u001B[0mcur\u001B[0m \u001B[0;34m=\u001B[0m \u001B[0mcollection_peaky\u001B[0m\u001B[0;34m.\u001B[0m\u001B[0mfind\u001B[0m\u001B[0;34m(\u001B[0m\u001B[0;34m{\u001B[0m\u001B[0;34m\"lastname\"\u001B[0m\u001B[0;34m:\u001B[0m \u001B[0;34m\"Gray\"\u001B[0m\u001B[0;34m}\u001B[0m\u001B[0;34m)\u001B[0m\u001B[0;34m\u001B[0m\u001B[0;34m\u001B[0m\u001B[0m\n\u001B[0;32m----> 2\u001B[0;31m \u001B[0mnext\u001B[0m\u001B[0;34m(\u001B[0m\u001B[0mcur\u001B[0m\u001B[0;34m)\u001B[0m\u001B[0;34m\u001B[0m\u001B[0;34m\u001B[0m\u001B[0m\n\u001B[0m",
      "\u001B[0;32m~/.local/share/virtualenvs/code-AFz48Hjb/lib/python3.6/site-packages/pymongo/cursor.py\u001B[0m in \u001B[0;36mnext\u001B[0;34m(self)\u001B[0m\n\u001B[1;32m   1138\u001B[0m                 \u001B[0;32mreturn\u001B[0m \u001B[0mself\u001B[0m\u001B[0;34m.\u001B[0m\u001B[0m__data\u001B[0m\u001B[0;34m.\u001B[0m\u001B[0mpopleft\u001B[0m\u001B[0;34m(\u001B[0m\u001B[0;34m)\u001B[0m\u001B[0;34m\u001B[0m\u001B[0;34m\u001B[0m\u001B[0m\n\u001B[1;32m   1139\u001B[0m         \u001B[0;32melse\u001B[0m\u001B[0;34m:\u001B[0m\u001B[0;34m\u001B[0m\u001B[0;34m\u001B[0m\u001B[0m\n\u001B[0;32m-> 1140\u001B[0;31m             \u001B[0;32mraise\u001B[0m \u001B[0mStopIteration\u001B[0m\u001B[0;34m\u001B[0m\u001B[0;34m\u001B[0m\u001B[0m\n\u001B[0m\u001B[1;32m   1141\u001B[0m \u001B[0;34m\u001B[0m\u001B[0m\n\u001B[1;32m   1142\u001B[0m     \u001B[0m__next__\u001B[0m \u001B[0;34m=\u001B[0m \u001B[0mnext\u001B[0m\u001B[0;34m\u001B[0m\u001B[0;34m\u001B[0m\u001B[0m\n",
      "\u001B[0;31mStopIteration\u001B[0m: "
     ]
    }
   ],
   "source": [
    "cur = collection_peaky.find({\"lastname\": \"Gray\"})\n",
    "next(cur)"
   ]
  },
  {
   "cell_type": "markdown",
   "metadata": {},
   "source": [
    "Plus aucun document ne possède ces propriétés.\n",
    "\n",
    "Pour supprimer un seul document (ou le premier si la condition n'est pas assez restrictive) :"
   ]
  },
  {
   "cell_type": "code",
   "execution_count": 182,
   "metadata": {},
   "outputs": [
    {
     "data": {
      "text/plain": [
       "<pymongo.results.DeleteResult at 0x7fe344841648>"
      ]
     },
     "execution_count": 182,
     "metadata": {},
     "output_type": "execute_result"
    }
   ],
   "source": [
    "result = collection_peaky.delete_one({\"firstname\": \"Arthur\"})\n",
    "result"
   ]
  },
  {
   "cell_type": "code",
   "execution_count": 183,
   "metadata": {},
   "outputs": [
    {
     "data": {
      "text/plain": [
       "{'_id': ObjectId('5ddac4709ed5d6001efd0439'),\n",
       " 'firstname': 'Arthur',\n",
       " 'lastname': 'Shelby',\n",
       " 'position': 'Associate',\n",
       " 'gender': 'Male',\n",
       " 'age': 38,\n",
       " 'description': \"Arthur Shelby Jr. is the eldest of the Shelby siblings and the tough member of Peaky Blinders, the Deputy Vice President Shelby Company Limited. He's also a member of the ICA.\",\n",
       " 'company': 'Peaky Blinders',\n",
       " 'episodes': [1, 4, 6],\n",
       " 'shelbyFamily': True}"
      ]
     },
     "execution_count": 183,
     "metadata": {},
     "output_type": "execute_result"
    }
   ],
   "source": [
    "cur = collection_peaky.find({\"firstname\": \"Arthur\"})\n",
    "next(cur)"
   ]
  },
  {
   "cell_type": "markdown",
   "metadata": {},
   "source": [
    "Pour supprimer tous les documents de la collection: \n"
   ]
  },
  {
   "cell_type": "code",
   "execution_count": 184,
   "metadata": {},
   "outputs": [
    {
     "data": {
      "text/plain": [
       "<pymongo.results.DeleteResult at 0x7fe34483f2c8>"
      ]
     },
     "execution_count": 184,
     "metadata": {},
     "output_type": "execute_result"
    }
   ],
   "source": [
    "result = collection_peaky.delete_many({})\n",
    "result"
   ]
  },
  {
   "cell_type": "code",
   "execution_count": 185,
   "metadata": {},
   "outputs": [
    {
     "ename": "StopIteration",
     "evalue": "",
     "output_type": "error",
     "traceback": [
      "\u001B[0;31m---------------------------------------------------------------------------\u001B[0m",
      "\u001B[0;31mStopIteration\u001B[0m                             Traceback (most recent call last)",
      "\u001B[0;32m<ipython-input-185-17320848bbe3>\u001B[0m in \u001B[0;36m<module>\u001B[0;34m\u001B[0m\n\u001B[1;32m      1\u001B[0m \u001B[0mcur\u001B[0m \u001B[0;34m=\u001B[0m \u001B[0mcollection_peaky\u001B[0m\u001B[0;34m.\u001B[0m\u001B[0mfind\u001B[0m\u001B[0;34m(\u001B[0m\u001B[0;34m)\u001B[0m\u001B[0;34m\u001B[0m\u001B[0;34m\u001B[0m\u001B[0m\n\u001B[0;32m----> 2\u001B[0;31m \u001B[0mnext\u001B[0m\u001B[0;34m(\u001B[0m\u001B[0mcur\u001B[0m\u001B[0;34m)\u001B[0m\u001B[0;34m\u001B[0m\u001B[0;34m\u001B[0m\u001B[0m\n\u001B[0m",
      "\u001B[0;32m~/.local/share/virtualenvs/code-AFz48Hjb/lib/python3.6/site-packages/pymongo/cursor.py\u001B[0m in \u001B[0;36mnext\u001B[0;34m(self)\u001B[0m\n\u001B[1;32m   1138\u001B[0m                 \u001B[0;32mreturn\u001B[0m \u001B[0mself\u001B[0m\u001B[0;34m.\u001B[0m\u001B[0m__data\u001B[0m\u001B[0;34m.\u001B[0m\u001B[0mpopleft\u001B[0m\u001B[0;34m(\u001B[0m\u001B[0;34m)\u001B[0m\u001B[0;34m\u001B[0m\u001B[0;34m\u001B[0m\u001B[0m\n\u001B[1;32m   1139\u001B[0m         \u001B[0;32melse\u001B[0m\u001B[0;34m:\u001B[0m\u001B[0;34m\u001B[0m\u001B[0;34m\u001B[0m\u001B[0m\n\u001B[0;32m-> 1140\u001B[0;31m             \u001B[0;32mraise\u001B[0m \u001B[0mStopIteration\u001B[0m\u001B[0;34m\u001B[0m\u001B[0;34m\u001B[0m\u001B[0m\n\u001B[0m\u001B[1;32m   1141\u001B[0m \u001B[0;34m\u001B[0m\u001B[0m\n\u001B[1;32m   1142\u001B[0m     \u001B[0m__next__\u001B[0m \u001B[0;34m=\u001B[0m \u001B[0mnext\u001B[0m\u001B[0;34m\u001B[0m\u001B[0;34m\u001B[0m\u001B[0m\n",
      "\u001B[0;31mStopIteration\u001B[0m: "
     ]
    }
   ],
   "source": [
    "cur = collection_peaky.find()\n",
    "next(cur)"
   ]
  },
  {
   "cell_type": "markdown",
   "metadata": {},
   "source": [
    "Plus aucun document n'est présent dans la collection\n",
    "\n",
    "Quelques choses à savoir : \n",
    "\n",
    "- La méthode `deleteMany()` applique une fonction à tous les documents. Toutes les fonctions en Mongo sont atomiques ce qui veut dire qu'elles s'appliquent à chaque document indépendamment les uns des autres.\n",
    "- La méthode `delete()` ne supprime pas les index, même si on supprime tous les documents de la collection.\n"
   ]
  },
  {
   "cell_type": "markdown",
   "metadata": {},
   "source": [
    "### Exercice \n",
    "\n",
    "Maintenant que la collection est vide, réintégrez les données précédemment supprimés. "
   ]
  },
  {
   "cell_type": "code",
   "execution_count": null,
   "metadata": {},
   "outputs": [],
   "source": []
  },
  {
   "cell_type": "markdown",
   "metadata": {},
   "source": [
    "## Aggregation\n",
    "\n",
    "\n",
    "Une aggrégation permet de faire des opérations complexes sur des groupes de documents directement dans la base. Elle se charge de grouper les documents entre eux suivant la requête et se charge d'effectuer une opération sur l'ensemble des documents de chacun des groupes. On peut retrouver les mêmes opérations en SQL avec les arguments `GROUP BY`.\n",
    "\n",
    "La syntaxe est très similaire à toutes les autres fonctions Mongo mais la requête va être plus complexe. \n",
    "\n",
    "```\n",
    "db.<YOUR_COLLECTION_NAME>.aggregate(AGGREGATE_OPERATION)\n",
    "```\n",
    "\n",
    "On peut vouloir récupérer le nombre de personnages de chaque famille présente dans la série : \n"
   ]
  },
  {
   "cell_type": "code",
   "execution_count": 188,
   "metadata": {},
   "outputs": [
    {
     "data": {
      "text/plain": [
       "[{'_id': 'Thorne', 'charactereNumberByFamily': 1},\n",
       " {'_id': 'Gray', 'charactereNumberByFamily': 2},\n",
       " {'_id': 'Shelby', 'charactereNumberByFamily': 3}]"
      ]
     },
     "execution_count": 188,
     "metadata": {},
     "output_type": "execute_result"
    }
   ],
   "source": [
    "cur = collection_peaky.aggregate([{\"$group\" : {\"_id\" : \"$lastname\", \"charactereNumberByFamily\" : {\"$sum\" : 1}}}])\n",
    "list(cur)"
   ]
  },
  {
   "cell_type": "markdown",
   "metadata": {},
   "source": [
    "\n",
    "Vous avez accès à toutes les opérations mathématiques dont vous avez besoin : \n",
    "\n",
    "- `$sum` : fait la somme de \n",
    "- `$avg` : fait la moyenne \n",
    "- `$min` : récupère la valeur minimale \n",
    "- `$max` : récupère la valeur maximale \n",
    "- `$first` : récupère le premier élément\n",
    "- `$last` : récupère le dernier élément\n"
   ]
  },
  {
   "cell_type": "code",
   "execution_count": 189,
   "metadata": {},
   "outputs": [
    {
     "data": {
      "text/plain": [
       "[{'_id': 'Thorne', 'averageAgeByFamily': 28.0},\n",
       " {'_id': 'Gray', 'averageAgeByFamily': 33.0},\n",
       " {'_id': 'Shelby', 'averageAgeByFamily': 34.333333333333336}]"
      ]
     },
     "execution_count": 189,
     "metadata": {},
     "output_type": "execute_result"
    }
   ],
   "source": [
    "cur = collection_peaky.aggregate([{\"$group\" : {\"_id\" : \"$lastname\", \"averageAgeByFamily\" : {\"$avg\" : \"$age\"}}}])\n",
    "list(cur)\n"
   ]
  },
  {
   "cell_type": "code",
   "execution_count": 190,
   "metadata": {},
   "outputs": [
    {
     "data": {
      "text/plain": [
       "[{'_id': 'Thorne', 'minAgeByFamily': 28},\n",
       " {'_id': 'Gray', 'minAgeByFamily': 21},\n",
       " {'_id': 'Shelby', 'minAgeByFamily': 30}]"
      ]
     },
     "execution_count": 190,
     "metadata": {},
     "output_type": "execute_result"
    }
   ],
   "source": [
    "cur = collection_peaky.aggregate([{\"$group\" : {\"_id\" : \"$lastname\", \"minAgeByFamily\" : {\"$min\" : \"$age\"}}}])\n",
    "list(cur)\n"
   ]
  },
  {
   "cell_type": "code",
   "execution_count": 191,
   "metadata": {},
   "outputs": [
    {
     "data": {
      "text/plain": [
       "[{'_id': 'Thorne', 'lastAgeByFamily': 28},\n",
       " {'_id': 'Gray', 'lastAgeByFamily': 45},\n",
       " {'_id': 'Shelby', 'lastAgeByFamily': 30}]"
      ]
     },
     "execution_count": 191,
     "metadata": {},
     "output_type": "execute_result"
    }
   ],
   "source": [
    "cur = collection_peaky.aggregate([{\"$group\" : {\"_id\" : \"$lastname\", \"lastAgeByFamily\" : {\"$last\" : \"$age\"}}}])\n",
    "list(cur)\n"
   ]
  },
  {
   "cell_type": "markdown",
   "metadata": {},
   "source": [
    "On peut ajouter un paramètre à la fonction `aggregate()` pour filtrer les élements à aggréger.\n",
    "Si on ne veut récupérer que les hommes : \n"
   ]
  },
  {
   "cell_type": "code",
   "execution_count": 192,
   "metadata": {},
   "outputs": [
    {
     "data": {
      "text/plain": [
       "[{'_id': 'Gray', 'averageAgeByFamily': 21.0},\n",
       " {'_id': 'Shelby', 'averageAgeByFamily': 34.333333333333336}]"
      ]
     },
     "execution_count": 192,
     "metadata": {},
     "output_type": "execute_result"
    }
   ],
   "source": [
    "cur = collection_peaky.aggregate([\n",
    "        {\"$match\":{\"gender\":\"Male\"}},\n",
    "        {\"$group\" : {\"_id\" : \"$lastname\", \"averageAgeByFamily\" : {\"$avg\" : \"$age\"}}}\n",
    "    ])\n",
    "list(cur)"
   ]
  },
  {
   "cell_type": "markdown",
   "metadata": {},
   "source": [
    "\n",
    "Il est aussi possible d'intégrer directement du code JavaScript dans les requêtes Mongo. Des fonctions de Map->Reduce sont disponibles pour effectuer les fonctions d'aggrégation. L'opération de Map->Reduce se découpe en deux phases : \n",
    "\n",
    "- Phase de MAP : parcourt tous les élements et extrait les champs voulus.\n",
    "- Phase de REDUCE : utilise les champs retournés pour effectuer l'opération finale. "
   ]
  },
  {
   "cell_type": "code",
   "execution_count": 193,
   "metadata": {},
   "outputs": [],
   "source": [
    "map_function = '''function(){emit(this.lastname, this.age)}'''\n",
    "reduce_function = '''function(key,values){return Array.sum(values)}'''\n",
    "out = '''{query :{gender:\"Male\"}, out:\"sumAge\"}'''\n",
    "result = collection_peaky.map_reduce(\n",
    "        map_function, \n",
    "        reduce_function,\n",
    "        out)"
   ]
  },
  {
   "cell_type": "markdown",
   "metadata": {},
   "source": [
    "Pour récupérer maintenant les résultats : "
   ]
  },
  {
   "cell_type": "code",
   "execution_count": 194,
   "metadata": {},
   "outputs": [
    {
     "data": {
      "text/plain": [
       "[{'_id': 'Gray', 'value': 66.0},\n",
       " {'_id': 'Shelby', 'value': 103.0},\n",
       " {'_id': 'Thorne', 'value': 28.0}]"
      ]
     },
     "execution_count": 194,
     "metadata": {},
     "output_type": "execute_result"
    }
   ],
   "source": [
    "list(result.find())"
   ]
  },
  {
   "cell_type": "code",
   "execution_count": null,
   "metadata": {},
   "outputs": [],
   "source": []
  }
 ],
 "metadata": {
  "kernelspec": {
   "display_name": "Python 3",
   "language": "python",
   "name": "python3"
  },
  "language_info": {
   "codemirror_mode": {
    "name": "ipython",
    "version": 3
   },
   "file_extension": ".py",
   "mimetype": "text/x-python",
   "name": "python",
   "nbconvert_exporter": "python",
   "pygments_lexer": "ipython3",
   "version": "3.6.9"
  },
  "varInspector": {
   "cols": {
    "lenName": 16,
    "lenType": 16,
    "lenVar": 40
   },
   "kernels_config": {
    "python": {
     "delete_cmd_postfix": "",
     "delete_cmd_prefix": "del ",
     "library": "var_list.py",
     "varRefreshCmd": "print(var_dic_list())"
    },
    "r": {
     "delete_cmd_postfix": ") ",
     "delete_cmd_prefix": "rm(",
     "library": "var_list.r",
     "varRefreshCmd": "cat(var_dic_list()) "
    }
   },
   "types_to_exclude": [
    "module",
    "function",
    "builtin_function_or_method",
    "instance",
    "_Feature"
   ],
   "window_display": false
  }
 },
 "nbformat": 4,
 "nbformat_minor": 2
}
